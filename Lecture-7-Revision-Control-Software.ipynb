{
 "cells": [
  {
   "cell_type": "markdown",
   "metadata": {},
   "source": [
    "# Revision control software"
   ],
   "execution_count": null,
   "outputs": []
  },
  {
   "cell_type": "markdown",
   "metadata": {},
   "source": [
    "The latest version of this [IPython notebook](http://ipython.org/notebook.html) lecture is available at [http://github.com/jrjohansson/scientific-python-lectures](http://github.com/jrjohansson/scientific-python-lectures).\n",
    "\n",
    "The other notebooks in this lecture series are indexed at [http://jrjohansson.github.io](http://jrjohansson.github.io).\n",
    "\n",
    "It has been updated by Prof. [George Papagiannakis](http://george.papagiannakis.org) as an introduction to the [glGA](http://george.papagiannakis.org/?page_id=513) `SDK v2020.1`\n",
    "\n",
    "---"
   ],
   "execution_count": null,
   "outputs": []
  },
  {
   "cell_type": "code",
   "execution_count": 1,
   "metadata": {
    "collapsed": false
   },
   "outputs": [
    {
     "output_type": "stream",
     "name": "stdout",
     "text": "/Users/Giwrgakis/MyProjects/Python/scientific-python-lectures\nLecture-0-Scientific-Computing-with-Python.ipynb\nLecture-1-Introduction-to-Python-Programming.ipynb\nLecture-2-Numpy.ipynb\nLecture-3-Scipy.ipynb\nLecture-4-Matplotlib.ipynb\nLecture-5-Sympy.ipynb\nLecture-6A-Fortran-and-C.ipynb\nLecture-6B-HPC.ipynb\nLecture-7-Revision-Control-Software.ipynb\nMakefile\nREADME.md\nScientific-Computing-with-Python.pdf\nScientific-Computing-with-Python.tex\n\u001b[34m__pycache__\u001b[m\u001b[m\nchapter.tplx\ncy_dcumsum.pyx\ndcumsum.f\ndprod.f\ndprod.pyf\nfunctions.c\nfunctions.o\nfunctions.py\nhello.py\nhellofortran.f\n\u001b[34mimages\u001b[m\u001b[m\n\u001b[31mlibfunctions.so\u001b[m\u001b[m\nmpi-matrix-vector.py\nmpi-numpy-array.py\nmpi-psum.py\nmpitest.py\nmymodule.py\nopencl-dense-mv.py\nrandom-matrix.npy\nrandom-vector.npy\nrun_hello_c.py\n\u001b[34mscripts\u001b[m\u001b[m\nsetup.py\nstockholm_td_adj.dat\n"
    }
   ],
   "source": [
    "from IPython.display import Image\n",
    "\n",
    "!pwd \n",
    "!ls "
   ]
  },
  {
   "cell_type": "markdown",
   "metadata": {},
   "source": [
    "In any software development, one of the most important tools are revision control software (RCS).\n",
    "\n",
    "They are used in virtually all software development and in all environments, by everyone and everywhere (no kidding!)\n",
    "\n",
    "RCS can used on almost any digital content, so it is not only restricted to software development, and is also very useful for manuscript files, figures, data and notebooks!\n",
    "\n"
   ],
   "execution_count": null,
   "outputs": []
  },
  {
   "cell_type": "markdown",
   "metadata": {},
   "source": [
    "## There are two main purposes of RCS systems:"
   ],
   "execution_count": null,
   "outputs": []
  },
  {
   "cell_type": "markdown",
   "metadata": {},
   "source": [
    "1. Keep track of changes in the source code.\n",
    "    * Allow reverting back to an older revision if something goes wrong.\n",
    "    * Work on several \"branches\" of the software concurrently.\n",
    "    * Tags revisions to keep track of which version of the software that was used for what (for example, \"release-1.0\", \"paper-A-final\", ...)\n",
    "2. Make it possible for serveral people to collaboratively work on the same code base simultaneously.\n",
    "    * Allow many authors to make changes to the code.\n",
    "    * Clearly communicating and visualizing changes in the code base to everyone involved."
   ],
   "execution_count": null,
   "outputs": []
  },
  {
   "cell_type": "markdown",
   "metadata": {},
   "source": [
    "## Basic principles and terminology for RCS systems"
   ],
   "execution_count": null,
   "outputs": []
  },
  {
   "cell_type": "markdown",
   "metadata": {},
   "source": [
    "In an RCS, the source code or digital content is stored in a **repository**. \n",
    "\n",
    "* The repository does not only contain the latest version of all files, but the complete history of all changes to the files since they were added to the repository. \n",
    "\n",
    "* A user can **checkout** the repository, and obtain a local working copy of the files. All changes are made to the files in the local working directory, where files can be added, removed and updated. \n",
    "\n",
    "* When a task has been completed, the changes to the local files are **commited** (saved to the repository).\n",
    "\n",
    "* If someone else has been making changes to the same files, a **conflict** can occur. In many cases conflicts can be **resolved** automatically by the system, but in some cases we might manually have to **merge** different changes together.\n",
    "\n",
    "* It is often useful to create a new **branch** in a repository, or a **fork** or **clone** of an entire repository, when we doing larger experimental development. The main branch in a repository is called often **master** or **trunk**. When work on a branch or fork is completed, it can be merged in to the master branch/repository.\n",
    "\n",
    "* With distributed RCSs such as GIT or Mercurial, we can **pull** and **push** changesets between different repositories. For example, between a local copy of there repository to a central online reposistory (for example on a community repository host site like github.com)."
   ],
   "execution_count": null,
   "outputs": []
  },
  {
   "cell_type": "markdown",
   "metadata": {},
   "source": [
    "### Some good RCS software"
   ],
   "execution_count": null,
   "outputs": []
  },
  {
   "cell_type": "markdown",
   "metadata": {},
   "source": [
    "1. GIT (`git`) : http://git-scm.com/\n",
    "2. Mercurial (`hg`) : http://mercurial.selenic.com/\n",
    "\n",
    "In the rest of this lecture we will look at `git`, although `hg` is just as good and work in almost exactly the same way."
   ],
   "execution_count": null,
   "outputs": []
  },
  {
   "cell_type": "markdown",
   "metadata": {},
   "source": [
    "## Installing git"
   ],
   "execution_count": null,
   "outputs": []
  },
  {
   "cell_type": "markdown",
   "metadata": {},
   "source": [
    "On Linux:\n",
    "    \n",
    "    $ sudo apt-get install git\n",
    "\n",
    "On Mac (with macports):\n",
    "\n",
    "    $ sudo port install git\n",
    "\n",
    "The first time you start to use git, you'll need to configure your author information:\n",
    "\n",
    "    $ git config --global user.name 'Robert Johansson'\n",
    "    $ git config --global user.email robert@riken.jp"
   ],
   "execution_count": null,
   "outputs": []
  },
  {
   "cell_type": "markdown",
   "metadata": {},
   "source": [
    "## Creating and cloning a repository"
   ],
   "execution_count": null,
   "outputs": []
  },
  {
   "cell_type": "markdown",
   "metadata": {},
   "source": [
    "To create a brand new empty repository, we can use the command `git init repository-name`:"
   ],
   "execution_count": null,
   "outputs": []
  },
  {
   "cell_type": "code",
   "execution_count": 2,
   "metadata": {
    "collapsed": false
   },
   "outputs": [
    {
     "output_type": "stream",
     "name": "stdout",
     "text": "Initialized empty Git repository in /Users/Giwrgakis/MyProjects/Python/scientific-python-lectures/gitdemo/.git/\n"
    }
   ],
   "source": [
    "# create a new git repository called gitdemo:\n",
    "!git init gitdemo"
   ]
  },
  {
   "cell_type": "markdown",
   "metadata": {},
   "source": [
    "If we want to fork or clone an existing repository, we can use the command `git clone repository`:"
   ],
   "execution_count": null,
   "outputs": []
  },
  {
   "cell_type": "code",
   "execution_count": 3,
   "metadata": {
    "collapsed": false
   },
   "outputs": [
    {
     "output_type": "stream",
     "name": "stdout",
     "text": "Cloning into 'qutip'...\nremote: Enumerating objects: 10, done.\u001b[K\nremote: Counting objects: 100% (10/10), done.\u001b[K\nremote: Compressing objects: 100% (10/10), done.\u001b[K\nReceiving objects:  99% (26514/26781), 17.29 MiB | 2.71 MiB/sremote: Total 26781 (delta 2), reused 5 (delta 0), pack-reused 26771\u001b[K\nReceiving objects: 100% (26781/26781), 19.40 MiB | 2.66 MiB/s, done.\nResolving deltas: 100% (18334/18334), done.\n"
    }
   ],
   "source": [
    "!git clone https://github.com/qutip/qutip"
   ]
  },
  {
   "cell_type": "markdown",
   "metadata": {},
   "source": [
    "Git clone can take a URL to a public repository, like above, or a path to a local directory:"
   ],
   "execution_count": null,
   "outputs": []
  },
  {
   "cell_type": "code",
   "execution_count": 4,
   "metadata": {
    "collapsed": false
   },
   "outputs": [
    {
     "output_type": "stream",
     "name": "stdout",
     "text": "Cloning into 'gitdemo2'...\nwarning: You appear to have cloned an empty repository.\ndone.\n"
    }
   ],
   "source": [
    "!git clone gitdemo gitdemo2"
   ]
  },
  {
   "cell_type": "markdown",
   "metadata": {},
   "source": [
    "We can also clone private repositories over secure protocols such as SSH:\n",
    "\n",
    "    $ git clone ssh://myserver.com/myrepository"
   ],
   "execution_count": null,
   "outputs": []
  },
  {
   "cell_type": "markdown",
   "metadata": {},
   "source": [
    "## Status"
   ],
   "execution_count": null,
   "outputs": []
  },
  {
   "cell_type": "markdown",
   "metadata": {},
   "source": [
    "Using the command `git status` we get a summary of the current status of the working directory. It shows if we have modified, added or removed files."
   ],
   "execution_count": null,
   "outputs": []
  },
  {
   "cell_type": "code",
   "execution_count": 5,
   "metadata": {
    "collapsed": false
   },
   "outputs": [
    {
     "output_type": "stream",
     "name": "stdout",
     "text": "On branch master\nYour branch is up to date with 'origin/master'.\n\nChanges not staged for commit:\n  (use \"git add <file>...\" to update what will be committed)\n  (use \"git restore <file>...\" to discard changes in working directory)\n\t\u001b[31mmodified:   Lecture-0-Scientific-Computing-with-Python.ipynb\u001b[m\n\t\u001b[31mmodified:   Lecture-1-Introduction-to-Python-Programming.ipynb\u001b[m\n\t\u001b[31mmodified:   Lecture-3-Scipy.ipynb\u001b[m\n\t\u001b[31mmodified:   Lecture-5-Sympy.ipynb\u001b[m\n\t\u001b[31mmodified:   Lecture-6A-Fortran-and-C.ipynb\u001b[m\n\t\u001b[31mmodified:   Lecture-6B-HPC.ipynb\u001b[m\n\t\u001b[31mmodified:   Lecture-7-Revision-Control-Software.ipynb\u001b[m\n\nUntracked files:\n  (use \"git add <file>...\" to include in what will be committed)\n\t\u001b[31m.ipynb_checkpoints/\u001b[m\n\t\u001b[31m.vscode/\u001b[m\n\t\u001b[31mcy_dcumsum.pyx\u001b[m\n\t\u001b[31mdcumsum.f\u001b[m\n\t\u001b[31mdprod.f\u001b[m\n\t\u001b[31mdprod.pyf\u001b[m\n\t\u001b[31mfunctions.c\u001b[m\n\t\u001b[31mfunctions.o\u001b[m\n\t\u001b[31mfunctions.py\u001b[m\n\t\u001b[31mhello.py\u001b[m\n\t\u001b[31mhellofortran.f\u001b[m\n\t\u001b[31mmpi-matrix-vector.py\u001b[m\n\t\u001b[31mmpi-numpy-array.py\u001b[m\n\t\u001b[31mmpi-psum.py\u001b[m\n\t\u001b[31mmpitest.py\u001b[m\n\t\u001b[31mmymodule.py\u001b[m\n\t\u001b[31mopencl-dense-mv.py\u001b[m\n\t\u001b[31mqutip/\u001b[m\n\t\u001b[31mrandom-matrix.npy\u001b[m\n\t\u001b[31mrandom-vector.npy\u001b[m\n\t\u001b[31mrun_hello_c.py\u001b[m\n\t\u001b[31msetup.py\u001b[m\n\nno changes added to commit (use \"git add\" and/or \"git commit -a\")\n"
    }
   ],
   "source": [
    "!git status"
   ]
  },
  {
   "cell_type": "markdown",
   "metadata": {},
   "source": [
    "In this case, only the current ipython notebook has been added. It is listed as an untracked file, and is therefore not in the repository yet."
   ],
   "execution_count": null,
   "outputs": []
  },
  {
   "cell_type": "markdown",
   "metadata": {},
   "source": [
    "## Adding files and committing changes"
   ],
   "execution_count": null,
   "outputs": []
  },
  {
   "cell_type": "markdown",
   "metadata": {},
   "source": [
    "To add a new file to the repository, we first create the file and then use the `git add filename` command:"
   ],
   "execution_count": null,
   "outputs": []
  },
  {
   "cell_type": "code",
   "execution_count": 6,
   "metadata": {
    "collapsed": false
   },
   "outputs": [
    {
     "output_type": "stream",
     "name": "stdout",
     "text": "Writing README\n"
    }
   ],
   "source": [
    "%%file README\n",
    "\n",
    "A file with information about the gitdemo repository."
   ]
  },
  {
   "cell_type": "code",
   "execution_count": 7,
   "metadata": {
    "collapsed": false
   },
   "outputs": [
    {
     "output_type": "stream",
     "name": "stdout",
     "text": "On branch master\nYour branch is up to date with 'origin/master'.\n\nChanges not staged for commit:\n  (use \"git add <file>...\" to update what will be committed)\n  (use \"git restore <file>...\" to discard changes in working directory)\n\t\u001b[31mmodified:   Lecture-0-Scientific-Computing-with-Python.ipynb\u001b[m\n\t\u001b[31mmodified:   Lecture-1-Introduction-to-Python-Programming.ipynb\u001b[m\n\t\u001b[31mmodified:   Lecture-3-Scipy.ipynb\u001b[m\n\t\u001b[31mmodified:   Lecture-5-Sympy.ipynb\u001b[m\n\t\u001b[31mmodified:   Lecture-6A-Fortran-and-C.ipynb\u001b[m\n\t\u001b[31mmodified:   Lecture-6B-HPC.ipynb\u001b[m\n\t\u001b[31mmodified:   Lecture-7-Revision-Control-Software.ipynb\u001b[m\n\nUntracked files:\n  (use \"git add <file>...\" to include in what will be committed)\n\t\u001b[31m.ipynb_checkpoints/\u001b[m\n\t\u001b[31m.vscode/\u001b[m\n\t\u001b[31mREADME\u001b[m\n\t\u001b[31mcy_dcumsum.pyx\u001b[m\n\t\u001b[31mdcumsum.f\u001b[m\n\t\u001b[31mdprod.f\u001b[m\n\t\u001b[31mdprod.pyf\u001b[m\n\t\u001b[31mfunctions.c\u001b[m\n\t\u001b[31mfunctions.o\u001b[m\n\t\u001b[31mfunctions.py\u001b[m\n\t\u001b[31mhello.py\u001b[m\n\t\u001b[31mhellofortran.f\u001b[m\n\t\u001b[31mmpi-matrix-vector.py\u001b[m\n\t\u001b[31mmpi-numpy-array.py\u001b[m\n\t\u001b[31mmpi-psum.py\u001b[m\n\t\u001b[31mmpitest.py\u001b[m\n\t\u001b[31mmymodule.py\u001b[m\n\t\u001b[31mopencl-dense-mv.py\u001b[m\n\t\u001b[31mqutip/\u001b[m\n\t\u001b[31mrandom-matrix.npy\u001b[m\n\t\u001b[31mrandom-vector.npy\u001b[m\n\t\u001b[31mrun_hello_c.py\u001b[m\n\t\u001b[31msetup.py\u001b[m\n\nno changes added to commit (use \"git add\" and/or \"git commit -a\")\n"
    }
   ],
   "source": [
    "!git status"
   ]
  },
  {
   "cell_type": "markdown",
   "metadata": {},
   "source": [
    "After having added the file `README`, the command `git status` list it as an *untracked* file."
   ],
   "execution_count": null,
   "outputs": []
  },
  {
   "cell_type": "code",
   "execution_count": 8,
   "metadata": {
    "collapsed": false
   },
   "outputs": [],
   "source": [
    "!git add README"
   ]
  },
  {
   "cell_type": "code",
   "execution_count": 9,
   "metadata": {
    "collapsed": false
   },
   "outputs": [
    {
     "output_type": "stream",
     "name": "stdout",
     "text": "On branch master\nYour branch is up to date with 'origin/master'.\n\nChanges to be committed:\n  (use \"git restore --staged <file>...\" to unstage)\n\t\u001b[32mnew file:   README\u001b[m\n\nChanges not staged for commit:\n  (use \"git add <file>...\" to update what will be committed)\n  (use \"git restore <file>...\" to discard changes in working directory)\n\t\u001b[31mmodified:   Lecture-0-Scientific-Computing-with-Python.ipynb\u001b[m\n\t\u001b[31mmodified:   Lecture-1-Introduction-to-Python-Programming.ipynb\u001b[m\n\t\u001b[31mmodified:   Lecture-3-Scipy.ipynb\u001b[m\n\t\u001b[31mmodified:   Lecture-5-Sympy.ipynb\u001b[m\n\t\u001b[31mmodified:   Lecture-6A-Fortran-and-C.ipynb\u001b[m\n\t\u001b[31mmodified:   Lecture-6B-HPC.ipynb\u001b[m\n\t\u001b[31mmodified:   Lecture-7-Revision-Control-Software.ipynb\u001b[m\n\nUntracked files:\n  (use \"git add <file>...\" to include in what will be committed)\n\t\u001b[31m.ipynb_checkpoints/\u001b[m\n\t\u001b[31m.vscode/\u001b[m\n\t\u001b[31mcy_dcumsum.pyx\u001b[m\n\t\u001b[31mdcumsum.f\u001b[m\n\t\u001b[31mdprod.f\u001b[m\n\t\u001b[31mdprod.pyf\u001b[m\n\t\u001b[31mfunctions.c\u001b[m\n\t\u001b[31mfunctions.o\u001b[m\n\t\u001b[31mfunctions.py\u001b[m\n\t\u001b[31mhello.py\u001b[m\n\t\u001b[31mhellofortran.f\u001b[m\n\t\u001b[31mmpi-matrix-vector.py\u001b[m\n\t\u001b[31mmpi-numpy-array.py\u001b[m\n\t\u001b[31mmpi-psum.py\u001b[m\n\t\u001b[31mmpitest.py\u001b[m\n\t\u001b[31mmymodule.py\u001b[m\n\t\u001b[31mopencl-dense-mv.py\u001b[m\n\t\u001b[31mqutip/\u001b[m\n\t\u001b[31mrandom-matrix.npy\u001b[m\n\t\u001b[31mrandom-vector.npy\u001b[m\n\t\u001b[31mrun_hello_c.py\u001b[m\n\t\u001b[31msetup.py\u001b[m\n\n"
    }
   ],
   "source": [
    "!git status"
   ]
  },
  {
   "cell_type": "markdown",
   "metadata": {},
   "source": [
    "Now that it has been added, it is listed as a *new file* that has not yet been commited to the repository."
   ],
   "execution_count": null,
   "outputs": []
  },
  {
   "cell_type": "code",
   "execution_count": 10,
   "metadata": {
    "collapsed": false
   },
   "outputs": [
    {
     "output_type": "stream",
     "name": "stdout",
     "text": "[master 3779122] Added a README file\n 1 file changed, 2 insertions(+)\n create mode 100644 README\n"
    }
   ],
   "source": [
    "!git commit -m \"Added a README file\" README"
   ]
  },
  {
   "cell_type": "code",
   "execution_count": 11,
   "metadata": {
    "collapsed": false
   },
   "outputs": [],
   "source": [
    "!git add Lecture-7-Revision-Control-Software.ipynb"
   ]
  },
  {
   "cell_type": "code",
   "execution_count": 12,
   "metadata": {
    "collapsed": false
   },
   "outputs": [
    {
     "output_type": "stream",
     "name": "stdout",
     "text": "[master 48c6163] added notebook file\n 1 file changed, 1435 insertions(+), 1906 deletions(-)\n rewrite Lecture-7-Revision-Control-Software.ipynb (95%)\n"
    }
   ],
   "source": [
    "!git commit -m \"added notebook file\" Lecture-7-Revision-Control-Software.ipynb"
   ]
  },
  {
   "cell_type": "code",
   "execution_count": 13,
   "metadata": {
    "collapsed": false
   },
   "outputs": [
    {
     "output_type": "stream",
     "name": "stdout",
     "text": "On branch master\nYour branch is ahead of 'origin/master' by 2 commits.\n  (use \"git push\" to publish your local commits)\n\nChanges not staged for commit:\n  (use \"git add <file>...\" to update what will be committed)\n  (use \"git restore <file>...\" to discard changes in working directory)\n\t\u001b[31mmodified:   Lecture-0-Scientific-Computing-with-Python.ipynb\u001b[m\n\t\u001b[31mmodified:   Lecture-1-Introduction-to-Python-Programming.ipynb\u001b[m\n\t\u001b[31mmodified:   Lecture-3-Scipy.ipynb\u001b[m\n\t\u001b[31mmodified:   Lecture-5-Sympy.ipynb\u001b[m\n\t\u001b[31mmodified:   Lecture-6A-Fortran-and-C.ipynb\u001b[m\n\t\u001b[31mmodified:   Lecture-6B-HPC.ipynb\u001b[m\n\nUntracked files:\n  (use \"git add <file>...\" to include in what will be committed)\n\t\u001b[31m.ipynb_checkpoints/\u001b[m\n\t\u001b[31m.vscode/\u001b[m\n\t\u001b[31mcy_dcumsum.pyx\u001b[m\n\t\u001b[31mdcumsum.f\u001b[m\n\t\u001b[31mdprod.f\u001b[m\n\t\u001b[31mdprod.pyf\u001b[m\n\t\u001b[31mfunctions.c\u001b[m\n\t\u001b[31mfunctions.o\u001b[m\n\t\u001b[31mfunctions.py\u001b[m\n\t\u001b[31mhello.py\u001b[m\n\t\u001b[31mhellofortran.f\u001b[m\n\t\u001b[31mmpi-matrix-vector.py\u001b[m\n\t\u001b[31mmpi-numpy-array.py\u001b[m\n\t\u001b[31mmpi-psum.py\u001b[m\n\t\u001b[31mmpitest.py\u001b[m\n\t\u001b[31mmymodule.py\u001b[m\n\t\u001b[31mopencl-dense-mv.py\u001b[m\n\t\u001b[31mqutip/\u001b[m\n\t\u001b[31mrandom-matrix.npy\u001b[m\n\t\u001b[31mrandom-vector.npy\u001b[m\n\t\u001b[31mrun_hello_c.py\u001b[m\n\t\u001b[31msetup.py\u001b[m\n\nno changes added to commit (use \"git add\" and/or \"git commit -a\")\n"
    }
   ],
   "source": [
    "!git status "
   ]
  },
  {
   "cell_type": "markdown",
   "metadata": {},
   "source": [
    "After *committing* the change to the repository from the local working directory, `git status` again reports that working directory is clean."
   ],
   "execution_count": null,
   "outputs": []
  },
  {
   "cell_type": "markdown",
   "metadata": {},
   "source": [
    "## Commiting changes"
   ],
   "execution_count": null,
   "outputs": []
  },
  {
   "cell_type": "markdown",
   "metadata": {},
   "source": [
    "When files that is tracked by GIT are changed, they are listed as *modified* by `git status`:"
   ],
   "execution_count": null,
   "outputs": []
  },
  {
   "cell_type": "code",
   "execution_count": 14,
   "metadata": {
    "collapsed": false
   },
   "outputs": [
    {
     "output_type": "stream",
     "name": "stdout",
     "text": "Overwriting README\n"
    }
   ],
   "source": [
    "%%file README\n",
    "\n",
    "A file with information about the gitdemo repository.\n",
    "\n",
    "A new line."
   ]
  },
  {
   "cell_type": "code",
   "execution_count": 15,
   "metadata": {
    "collapsed": false
   },
   "outputs": [
    {
     "output_type": "stream",
     "name": "stdout",
     "text": "On branch master\nYour branch is ahead of 'origin/master' by 2 commits.\n  (use \"git push\" to publish your local commits)\n\nChanges not staged for commit:\n  (use \"git add <file>...\" to update what will be committed)\n  (use \"git restore <file>...\" to discard changes in working directory)\n\t\u001b[31mmodified:   Lecture-0-Scientific-Computing-with-Python.ipynb\u001b[m\n\t\u001b[31mmodified:   Lecture-1-Introduction-to-Python-Programming.ipynb\u001b[m\n\t\u001b[31mmodified:   Lecture-3-Scipy.ipynb\u001b[m\n\t\u001b[31mmodified:   Lecture-5-Sympy.ipynb\u001b[m\n\t\u001b[31mmodified:   Lecture-6A-Fortran-and-C.ipynb\u001b[m\n\t\u001b[31mmodified:   Lecture-6B-HPC.ipynb\u001b[m\n\t\u001b[31mmodified:   README\u001b[m\n\nUntracked files:\n  (use \"git add <file>...\" to include in what will be committed)\n\t\u001b[31m.ipynb_checkpoints/\u001b[m\n\t\u001b[31m.vscode/\u001b[m\n\t\u001b[31mcy_dcumsum.pyx\u001b[m\n\t\u001b[31mdcumsum.f\u001b[m\n\t\u001b[31mdprod.f\u001b[m\n\t\u001b[31mdprod.pyf\u001b[m\n\t\u001b[31mfunctions.c\u001b[m\n\t\u001b[31mfunctions.o\u001b[m\n\t\u001b[31mfunctions.py\u001b[m\n\t\u001b[31mhello.py\u001b[m\n\t\u001b[31mhellofortran.f\u001b[m\n\t\u001b[31mmpi-matrix-vector.py\u001b[m\n\t\u001b[31mmpi-numpy-array.py\u001b[m\n\t\u001b[31mmpi-psum.py\u001b[m\n\t\u001b[31mmpitest.py\u001b[m\n\t\u001b[31mmymodule.py\u001b[m\n\t\u001b[31mopencl-dense-mv.py\u001b[m\n\t\u001b[31mqutip/\u001b[m\n\t\u001b[31mrandom-matrix.npy\u001b[m\n\t\u001b[31mrandom-vector.npy\u001b[m\n\t\u001b[31mrun_hello_c.py\u001b[m\n\t\u001b[31msetup.py\u001b[m\n\nno changes added to commit (use \"git add\" and/or \"git commit -a\")\n"
    }
   ],
   "source": [
    "!git status"
   ]
  },
  {
   "cell_type": "markdown",
   "metadata": {},
   "source": [
    "Again, we can commit such changes to the repository using the `git commit -m \"message\"` command."
   ],
   "execution_count": null,
   "outputs": []
  },
  {
   "cell_type": "code",
   "execution_count": 16,
   "metadata": {
    "collapsed": false
   },
   "outputs": [
    {
     "output_type": "stream",
     "name": "stdout",
     "text": "[master 0af4cb5] added one more line in README\n 1 file changed, 2 insertions(+)\n"
    }
   ],
   "source": [
    "!git commit -m \"added one more line in README\" README"
   ]
  },
  {
   "cell_type": "code",
   "execution_count": 17,
   "metadata": {
    "collapsed": false
   },
   "outputs": [
    {
     "output_type": "stream",
     "name": "stdout",
     "text": "On branch master\nYour branch is ahead of 'origin/master' by 3 commits.\n  (use \"git push\" to publish your local commits)\n\nChanges not staged for commit:\n  (use \"git add <file>...\" to update what will be committed)\n  (use \"git restore <file>...\" to discard changes in working directory)\n\t\u001b[31mmodified:   Lecture-0-Scientific-Computing-with-Python.ipynb\u001b[m\n\t\u001b[31mmodified:   Lecture-1-Introduction-to-Python-Programming.ipynb\u001b[m\n\t\u001b[31mmodified:   Lecture-3-Scipy.ipynb\u001b[m\n\t\u001b[31mmodified:   Lecture-5-Sympy.ipynb\u001b[m\n\t\u001b[31mmodified:   Lecture-6A-Fortran-and-C.ipynb\u001b[m\n\t\u001b[31mmodified:   Lecture-6B-HPC.ipynb\u001b[m\n\nUntracked files:\n  (use \"git add <file>...\" to include in what will be committed)\n\t\u001b[31m.ipynb_checkpoints/\u001b[m\n\t\u001b[31m.vscode/\u001b[m\n\t\u001b[31mcy_dcumsum.pyx\u001b[m\n\t\u001b[31mdcumsum.f\u001b[m\n\t\u001b[31mdprod.f\u001b[m\n\t\u001b[31mdprod.pyf\u001b[m\n\t\u001b[31mfunctions.c\u001b[m\n\t\u001b[31mfunctions.o\u001b[m\n\t\u001b[31mfunctions.py\u001b[m\n\t\u001b[31mhello.py\u001b[m\n\t\u001b[31mhellofortran.f\u001b[m\n\t\u001b[31mmpi-matrix-vector.py\u001b[m\n\t\u001b[31mmpi-numpy-array.py\u001b[m\n\t\u001b[31mmpi-psum.py\u001b[m\n\t\u001b[31mmpitest.py\u001b[m\n\t\u001b[31mmymodule.py\u001b[m\n\t\u001b[31mopencl-dense-mv.py\u001b[m\n\t\u001b[31mqutip/\u001b[m\n\t\u001b[31mrandom-matrix.npy\u001b[m\n\t\u001b[31mrandom-vector.npy\u001b[m\n\t\u001b[31mrun_hello_c.py\u001b[m\n\t\u001b[31msetup.py\u001b[m\n\nno changes added to commit (use \"git add\" and/or \"git commit -a\")\n"
    }
   ],
   "source": [
    "!git status"
   ]
  },
  {
   "cell_type": "markdown",
   "metadata": {},
   "source": [
    "## Removing files"
   ],
   "execution_count": null,
   "outputs": []
  },
  {
   "cell_type": "markdown",
   "metadata": {},
   "source": [
    "To remove file that has been added to the repository, use `git rm filename`, which works similar to `git add filename`:"
   ],
   "execution_count": null,
   "outputs": []
  },
  {
   "cell_type": "code",
   "execution_count": 18,
   "metadata": {
    "collapsed": false
   },
   "outputs": [
    {
     "output_type": "stream",
     "name": "stdout",
     "text": "Writing tmpfile\n"
    }
   ],
   "source": [
    "%%file tmpfile\n",
    "\n",
    "A short-lived file."
   ]
  },
  {
   "cell_type": "markdown",
   "metadata": {},
   "source": [
    "Add it:"
   ],
   "execution_count": null,
   "outputs": []
  },
  {
   "cell_type": "code",
   "execution_count": 19,
   "metadata": {
    "collapsed": false
   },
   "outputs": [],
   "source": [
    "!git add tmpfile"
   ]
  },
  {
   "cell_type": "code",
   "execution_count": 20,
   "metadata": {
    "collapsed": false
   },
   "outputs": [
    {
     "output_type": "stream",
     "name": "stdout",
     "text": "[master 6e583f6] adding file tmpfile\n 1 file changed, 2 insertions(+)\n create mode 100644 tmpfile\n"
    }
   ],
   "source": [
    "!git commit -m \"adding file tmpfile\" tmpfile "
   ]
  },
  {
   "cell_type": "markdown",
   "metadata": {},
   "source": [
    "Remove it again:"
   ],
   "execution_count": null,
   "outputs": []
  },
  {
   "cell_type": "code",
   "execution_count": 21,
   "metadata": {
    "collapsed": false
   },
   "outputs": [
    {
     "output_type": "stream",
     "name": "stdout",
     "text": "rm 'tmpfile'\n"
    }
   ],
   "source": [
    "!git rm tmpfile"
   ]
  },
  {
   "cell_type": "code",
   "execution_count": 22,
   "metadata": {
    "collapsed": false
   },
   "outputs": [
    {
     "output_type": "stream",
     "name": "stdout",
     "text": "[master e976838] remove file tmpfile\n 1 file changed, 2 deletions(-)\n delete mode 100644 tmpfile\n"
    }
   ],
   "source": [
    "!git commit -m \"remove file tmpfile\" tmpfile "
   ]
  },
  {
   "cell_type": "markdown",
   "metadata": {},
   "source": [
    "## Commit logs"
   ],
   "execution_count": null,
   "outputs": []
  },
  {
   "cell_type": "markdown",
   "metadata": {},
   "source": [
    "The messages that are added to the commit command are supposed to give a short (often one-line) description of the changes/additions/deletions in the commit. If the `-m \"message\"` is omitted when invoking the `git commit` message an editor will be opened for you to type a commit message (for example useful when a longer commit message is requried). \n",
    "\n",
    "We can look at the revision log by using the command `git log`:"
   ],
   "execution_count": null,
   "outputs": []
  },
  {
   "cell_type": "code",
   "execution_count": 23,
   "metadata": {
    "collapsed": false,
    "tags": [
     "outputPrepend"
    ]
   },
   "outputs": [
    {
     "output_type": "stream",
     "name": "stdout",
     "text": "0600\n\n    Updated Lecture-4-Matplotlib.ipynb: Syntax, FFMpeg workaround, clarification\n\n\u001b[33mcommit 5e82ad23bcd3bacb3e731c7527a5d0264a41f146\u001b[m\nMerge: 8c046ac 363e92c\nAuthor: Robert Johansson <jrjohansson@gmail.com>\nDate:   Wed Nov 27 14:38:31 2013 -0800\n\n    Merge pull request #11 from anddam/patch-1\n    \n    fixing typo: added missing word\n\n\u001b[33mcommit 363e92ceefcecc601976ddfa7b812c6b473dd483\u001b[m\nAuthor: Andrea D'Amore <anddam@brapi.net>\nDate:   Wed Nov 27 16:16:39 2013 +0100\n\n    fixing typo: added missing word\n\n\u001b[33mcommit 8c046acdc909667488811237fb85d029143e99a1\u001b[m\nAuthor: Robert Johansson <jrjohansson@gmail.com>\nDate:   Tue Nov 19 00:37:58 2013 +0900\n\n    fixed a couple of grammar and spelling errors\n\n\u001b[33mcommit 4bdc21ae7f3ca7a584cc23a3da55f8503d173104\u001b[m\nAuthor: Robert Johansson <jrjohansson@gmail.com>\nDate:   Tue Nov 19 00:18:48 2013 +0900\n\n    fix typo: this example should be a syntax error\n\n\u001b[33mcommit 1b903019834ab47b78e55f86717fcdf57cb6e95b\u001b[m\nMerge: 68fd7b9 bd6d1cf\nAuthor: Robert Johansson <jrjohansson@gmail.com>\nDate:   Mon Nov 18 05:49:01 2013 -0800\n\n    Merge pull request #9 from janpipek/master\n    \n    Logarithmic scale + histograms to matplotlib text\n\n\u001b[33mcommit bd6d1cf82bde9f31905ee58d0cd2e1a63a6dd10f\u001b[m\nAuthor: Jan Pipek <pipek@ipp.cas.cz>\nDate:   Mon Nov 18 11:59:48 2013 +0100\n\n    Matplotlib: histograms\n\n\u001b[33mcommit 3285e81e02a648ac9c03e3778a9463821d68bdc7\u001b[m\nAuthor: Jan Pipek <pipek@ipp.cas.cz>\nDate:   Mon Nov 18 11:57:08 2013 +0100\n\n    Matplotlib: Logarithmic scale\n\n\u001b[33mcommit 68fd7b99e1cf79a550b2b335d20bb994070a3768\u001b[m\nAuthor: Robert Johansson <jrjohansson@gmail.com>\nDate:   Mon Nov 11 15:12:40 2013 +0900\n\n    ran notebook with python3. added version information table.\n\n\u001b[33mcommit 4c5aea0c465b5c412cb9cc4a15df327ca0e29864\u001b[m\nAuthor: Robert Johansson <jrjohansson@gmail.com>\nDate:   Mon Nov 11 15:08:41 2013 +0900\n\n    fixed some python3 compability issues\n\n\u001b[33mcommit 0c4b617ccd809dec852678c3f3793d67c32d2357\u001b[m\nAuthor: Robert Johansson <jrjohansson@gmail.com>\nDate:   Mon Sep 30 15:57:28 2013 +0900\n\n    added note about %config InlineBackend\n\n\u001b[33mcommit fcb3044f9a3b95b74d0283cf7bf2d9f56c3fd7b2\u001b[m\nAuthor: Robert Johansson <jrjohansson@gmail.com>\nDate:   Mon Sep 30 15:40:44 2013 +0900\n\n    changes make_axes (wrong) to fig.add_axes\n\n\u001b[33mcommit 52f5b2aec24a077c21cb417842155ff7a798df94\u001b[m\nAuthor: Robert Johansson <jrjohansson@gmail.com>\nDate:   Sat Sep 7 11:05:36 2013 +0900\n\n    rephrase note on replicability and reproducibility\n\n\u001b[33mcommit 0cd9434239db08d2d73bbe2ef440ff2e30ff45c0\u001b[m\nMerge: a35e372 6f96618\nAuthor: Robert Johansson <jrjohansson@gmail.com>\nDate:   Sat Aug 31 18:39:37 2013 -0700\n\n    Merge pull request #8 from gfrubi/master\n    \n    more typos corrected in Lecture 3\n\n\u001b[33mcommit 6f966189d0b6992640c2d5b18a9d37f08b90e70b\u001b[m\nAuthor: Guillermo <gfrubi@users.noreply.github.com>\nDate:   Thu Aug 29 21:31:49 2013 -0400\n\n    typos\n\n\u001b[33mcommit 116b9c42cea07add280fa347826277e090398e8a\u001b[m\nAuthor: Guillermo <gfrubi@users.noreply.github.com>\nDate:   Thu Aug 29 15:52:15 2013 -0400\n\n    typos\n\n\u001b[33mcommit 8d73e06731ac0c23944b83f07bc81f4cc22535a7\u001b[m\nAuthor: Guillermo <gfrubi@users.noreply.github.com>\nDate:   Thu Aug 29 15:42:28 2013 -0400\n\n    corrected \"zeres\"\n\n\u001b[33mcommit f583f7ffe3ef79328806bd55efc013c79754781b\u001b[m\nAuthor: Guillermo <gfrubi@users.noreply.github.com>\nDate:   Thu Aug 29 15:38:03 2013 -0400\n\n    typos\n\n\u001b[33mcommit a35e372793767201391c5159d78de5760e06abfd\u001b[m\nMerge: 3dc5ac4 25c7383\nAuthor: Robert Johansson <jrjohansson@gmail.com>\nDate:   Sat Aug 17 00:05:10 2013 +0900\n\n    Manually merged PR #7\n\n\u001b[33mcommit 25c7383048d60d703858a960c4eea79ae8170f39\u001b[m\nAuthor: Guillermo <gfrubi@users.noreply.github.com>\nDate:   Wed Aug 14 19:09:41 2013 -0400\n\n    typo\n\n\u001b[33mcommit 4a6faf53aaaf4b71aa25ba20ee7c2d2441e1d840\u001b[m\nAuthor: Guillermo <gfrubi@users.noreply.github.com>\nDate:   Wed Aug 14 17:44:00 2013 -0400\n\n    \"are\" should be \"is\"\n\n\u001b[33mcommit 69cc3169db832f5b57c6cc13959677630400e637\u001b[m\nAuthor: Guillermo <gfrubi@users.noreply.github.com>\nDate:   Wed Aug 14 11:19:55 2013 -0400\n\n    typo\n\n\u001b[33mcommit 844d495d3f68e3577527be727e026f5bd671b8ee\u001b[m\nAuthor: Guillermo <gfrubi@users.noreply.github.com>\nDate:   Tue Aug 13 14:50:54 2013 -0400\n\n    small typos\n\n\u001b[33mcommit 4d45ae28840a5ff7f45649c11cbff76329e977ea\u001b[m\nAuthor: Guillermo <gfrubi@users.noreply.github.com>\nDate:   Mon Aug 12 14:42:29 2013 -0400\n\n    removed \"the\" from \"Using THE `numpy.savetxt`...\"\n\n\u001b[33mcommit d7b5ee5125322757c94451ddb4095e8eedba7824\u001b[m\nAuthor: Guillermo <gfrubi@users.noreply.github.com>\nDate:   Mon Aug 12 14:37:53 2013 -0400\n\n    typo: \"tempature\" to \"temperature\"\n\n\u001b[33mcommit ba911c59b9c1308060e78072b1e5d8409718d23b\u001b[m\nAuthor: Guillermo <gfrubi@gmail.com>\nDate:   Sun Aug 11 00:46:06 2013 -0400\n\n    typo\n\n\u001b[33mcommit 90f9404d1b02fd1d8e6f7d6a2de4d108d4f4d5a7\u001b[m\nAuthor: Guillermo <gfrubi@gmail.com>\nDate:   Sun Aug 11 00:34:09 2013 -0400\n\n    small typo\n\n\u001b[33mcommit 3dc5ac4fb0fc36db0cd4645d219202796a5656f3\u001b[m\nMerge: 059c1eb 6920d5b\nAuthor: Robert Johansson <jrjohansson@gmail.com>\nDate:   Fri Aug 9 18:26:37 2013 -0700\n\n    Merge pull request #6 from gfrubi/master\n    \n    more small corrections to the text\n\n\u001b[33mcommit 6920d5b38cd34703146523e7452530b57429d5a1\u001b[m\nAuthor: Guillermo <gfrubi@gmail.com>\nDate:   Fri Aug 9 18:39:12 2013 -0400\n\n    typos with \"expection\"\n\n\u001b[33mcommit ea1aba2d8beb765a8dd358d75b5ce3024b2cf67a\u001b[m\nAuthor: Guillermo <gfrubi@gmail.com>\nDate:   Fri Aug 9 18:32:36 2013 -0400\n\n    typo\n\n\u001b[33mcommit 9fc54a9eeb3a67254196c1f4e9c4619976195a5c\u001b[m\nAuthor: Guillermo <gfrubi@gmail.com>\nDate:   Fri Aug 9 18:28:25 2013 -0400\n\n    small typo\n\n\u001b[33mcommit 8f259bd1b8819ca84cbf42baa3d09bc33c990805\u001b[m\nAuthor: Guillermo <gfrubi@gmail.com>\nDate:   Fri Aug 9 18:02:34 2013 -0400\n\n    small typo\n\n\u001b[33mcommit f1b8788ff070e1198f7cb8c3b5a32d262c0f6da7\u001b[m\nAuthor: Guillermo <gfrubi@gmail.com>\nDate:   Fri Aug 9 17:59:39 2013 -0400\n\n    removed \"the\" from \"of THE that particular class...\"\n\n\u001b[33mcommit 8dfd5898ded19907033afe414c6707f44e4b2779\u001b[m\nAuthor: Guillermo <gfrubi@gmail.com>\nDate:   Fri Aug 9 17:43:21 2013 -0400\n\n    Fixed plural to singular\n\n\u001b[33mcommit 0bb9f8f2222f2b54e0955874f3f8eaccc5f45da2\u001b[m\nAuthor: Guillermo <gfrubi@gmail.com>\nDate:   Fri Aug 9 16:33:41 2013 -0400\n\n    \"lists\" replaced by \"dictionaries\", since this is what the text is reffering to\n\n\u001b[33mcommit 9ffd7f6841b225617fdd2da6aa788c9252c95949\u001b[m\nAuthor: Guillermo <gfrubi@gmail.com>\nDate:   Fri Aug 9 16:18:37 2013 -0400\n\n    Bad sentence corrected\n\n\u001b[33mcommit 83869535a6f22fe2afa4562ed48d03002cf8c389\u001b[m\nAuthor: Guillermo <gfrubi@gmail.com>\nDate:   Fri Aug 9 15:26:11 2013 -0400\n\n    small typo: \"use\" removed from \"We can USE extract a part...\"\n\n\u001b[33mcommit 29183d0d0fe6db44bc903f9c83d7a4921f7b0eb2\u001b[m\nAuthor: Guillermo <gfrubi@gmail.com>\nDate:   Thu Aug 8 12:09:56 2013 -0400\n\n    added \"that\" to \"...definitions THAT can be used...\"\n\n\u001b[33mcommit e968df274546b2633ad4d446e0639048f918ec3b\u001b[m\nAuthor: Guillermo <gfrubi@gmail.com>\nDate:   Thu Aug 8 11:54:42 2013 -0400\n\n    small typo: \"varable\" to \"variable\"\n\n\u001b[33mcommit 059c1eb1bf62f4804388abfe310053bd99f9095d\u001b[m\nAuthor: Robert Johansson <jrjohansson@gmail.com>\nDate:   Thu Aug 8 17:00:44 2013 +0900\n\n    use header cells instead of markdown headings\n\n\u001b[33mcommit 23fc637a378d5b237e5a6b4c1d8ff9e70e8c73fd\u001b[m\nAuthor: Robert Johansson <jrjohansson@gmail.com>\nDate:   Thu Aug 8 16:44:01 2013 +0900\n\n    added versions table\n\n\u001b[33mcommit ce8c6ad1d120e7990580464620d7b92d14d827c0\u001b[m\nAuthor: Robert Johansson <jrjohansson@gmail.com>\nDate:   Thu Aug 8 16:42:50 2013 +0900\n\n    added versions table\n\n\u001b[33mcommit ae2b44e25a8525a1ab2cee396e53607692c214da\u001b[m\nAuthor: Robert Johansson <jrjohansson@gmail.com>\nDate:   Thu Aug 8 12:38:46 2013 +0900\n\n    added ax=ax to fig.colorbar call, which is useful when packing figures with colorbars into subplots\n\n\u001b[33mcommit ae364b6992ba1754859e80ccd056fe09a8b60ff4\u001b[m\nAuthor: Robert Johansson <jrjohansson@gmail.com>\nDate:   Thu Aug 8 12:29:24 2013 +0900\n\n    use header cells instead of markdown headers. added note about matplotlib magic, more consistent use of plt namespace in OO API examples\n\n\u001b[33mcommit bc93fcbc3402430e5311604cebbe6cef71cfd091\u001b[m\nAuthor: Robert Johansson <jrjohansson@gmail.com>\nDate:   Thu Aug 8 12:05:45 2013 +0900\n\n    use header cells instead of markdown titles for better nbconvert compatibility\n\n\u001b[33mcommit 44d17a2a7498fba14482d5b3aeb43eddecb58611\u001b[m\nAuthor: Robert Johansson <jrjohansson@gmail.com>\nDate:   Thu Aug 8 11:52:38 2013 +0900\n\n    Added section about version_information\n\n\u001b[33mcommit c93a27a654886b7534f7707c5dc53c2b88e90fe2\u001b[m\nAuthor: Robert Johansson <jrjohansson@gmail.com>\nDate:   Thu Aug 8 11:02:11 2013 +0900\n\n    updated link to IPython notebook\n\n\u001b[33mcommit c0e73c9ef461e1313d25598772a1324c1256ea47\u001b[m\nMerge: d8b027f f4171b0\nAuthor: Robert Johansson <jrjohansson@gmail.com>\nDate:   Wed Aug 7 18:55:06 2013 -0700\n\n    Merge pull request #4 from gfrubi/master\n    \n    fixed link to Ipython notebook in lecture 0\n\n\u001b[33mcommit f4171b06aa029d065d91735e2871fde49982778a\u001b[m\nAuthor: Guillermo <gfrubi@gmail.com>\nDate:   Wed Aug 7 20:00:36 2013 -0400\n\n    fixed typo: \"This is pattern...\" to \"This pattern...\"\n\n\u001b[33mcommit fbb3c0d87f95d99ae0b45f87706a78fe33af0e0d\u001b[m\nAuthor: Guillermo <gfrubi@gmail.com>\nDate:   Wed Aug 7 19:53:14 2013 -0400\n\n    corrected typo (double \"for\")\n\n\u001b[33mcommit 9ab7e545f74b74dbd6b2aee2a420558839097879\u001b[m\nAuthor: Guillermo <gfrubi@gmail.com>\nDate:   Wed Aug 7 19:13:01 2013 -0400\n\n    fixed link to Ipython notebook\n\n\u001b[33mcommit d8b027f435f050172f4b8a307f38c573abb19937\u001b[m\nAuthor: Robert Johansson <jrjohansson@gmail.com>\nDate:   Sat Jun 15 09:24:09 2013 +0900\n\n    reran the notebook after cython code updated by jfeist. Added note about using IPythons %%cython magic.\n\n\u001b[33mcommit 11c4be54a8004a8ff50d720955fb02a35e8ecbc7\u001b[m\nMerge: 09ce4af 3ad9c75\nAuthor: Robert Johansson <jrjohansson@gmail.com>\nDate:   Fri Jun 14 08:49:48 2013 -0700\n\n    Merge pull request #3 from jfeist/master\n    \n    some small fixes\n\n\u001b[33mcommit 3ad9c75d0873a2443ad257cb954d62b0a79165a8\u001b[m\nAuthor: Johannes Feist <johannes.feist@gmail.com>\nDate:   Fri Jun 14 17:09:43 2013 +0200\n\n    in the cython example of lecture 6A: added a cdef for int i as well, giving speedup of more than 100x\n\n\u001b[33mcommit 2e40ce5c48a0884ae6a4dad8b7707fc1925d0999\u001b[m\nAuthor: Johannes Feist <johannes.feist@gmail.com>\nDate:   Fri Jun 14 16:35:34 2013 +0200\n\n    fixed some typos in lecture 5\n\n\u001b[33mcommit 3f5caf8410b4d649fcd8c5c3b91fcbd7871f83ce\u001b[m\nAuthor: Johannes Feist <johannes.feist@gmail.com>\nDate:   Fri Jun 14 16:21:38 2013 +0200\n\n    fixed two typos in lecture 1\n\n\u001b[33mcommit 09ce4af2c2822678f38257852f5abbb1b9665417\u001b[m\nAuthor: Robert Johansson <jrjohansson@gmail.com>\nDate:   Wed Jun 12 23:55:00 2013 +0900\n\n    added example of how to efficiently evaluate expressions using lambdify\n\n\u001b[33mcommit b20823e1f1fa5fa19c897830d6a81d02b381bdb2\u001b[m\nAuthor: Robert Johansson <jrjohansson@gmail.com>\nDate:   Wed Jun 12 00:44:24 2013 +0900\n\n    fixed typo in explanation of add_axes arguments (thanks to Derek Bridges)\n\n\u001b[33mcommit 3fdedfabebbf870cc4110e1df85ac81f20a74b13\u001b[m\nAuthor: Robert Johansson <jrjohansson@gmail.com>\nDate:   Fri May 10 21:06:01 2013 +0900\n\n    fixed problem with animation figure being showed. added arguments to animation save to make it work on mac. some spell fixes.\n\n\u001b[33mcommit 46caf73baf20920bdc1a4c10965b15a7caaa6850\u001b[m\nAuthor: Robert Johansson <jrjohansson@gmail.com>\nDate:   Wed May 1 16:15:43 2013 +0900\n\n    fixed a python 3 syntax error\n\n\u001b[33mcommit 7703269d3f7e11d0df72701f7d61ba4d9e6695bc\u001b[m\nAuthor: Robert Johansson <jrjohansson@gmail.com>\nDate:   Mon Apr 29 16:37:36 2013 +0900\n\n    python3 fixes\n\n\u001b[33mcommit c0844f6caa98b7ea0695a86add9a2e5be7538406\u001b[m\nAuthor: Robert Johansson <jrjohansson@gmail.com>\nDate:   Sun Apr 14 11:40:36 2013 +0900\n\n    spelling and grammar fixes\n\n\u001b[33mcommit 99fb70c8f0c55a6605397e68af00bd8a5721874a\u001b[m\nAuthor: Robert Johansson <jrjohansson@gmail.com>\nDate:   Tue Feb 19 11:54:47 2013 +0900\n\n    spelling, grammar and terminology fixes\n\n\u001b[33mcommit 5ba305b265636ddc06a37461811ff550736cf06d\u001b[m\nAuthor: Robert Johansson <jrjohansson@gmail.com>\nDate:   Tue Feb 19 11:33:13 2013 +0900\n\n    added some examples on how to use IPython.parallel\n\n\u001b[33mcommit b5f8c55bd27a87974f9be97b819796032028a04b\u001b[m\nAuthor: Robert Johansson <jrjohansson@gmail.com>\nDate:   Mon Feb 18 11:32:07 2013 +0900\n\n    ran a spell checker on the notebook...\n\n\u001b[33mcommit 403fdc71e7389f42b54c2c67524441c2566b1e18\u001b[m\nAuthor: Robert Johansson <jrjohansson@gmail.com>\nDate:   Mon Feb 18 11:19:53 2013 +0900\n\n    bugfix in the opencl example\n\n\nAuthor: Robert Johansson <jrjohansson@gmail.com>\nDate:   Mon Feb 18 10:55:43 2013 +0900\n\n    Fixes #2: correctly compare mpi sum and numpy sum, and make sure that all processes get the same random data to sum up..\n\n\u001b[33mcommit 196b77fd7955ffaf22e5a16f14fa5d6e16a8d9c9\u001b[m\nAuthor: Robert Johansson <jrjohansson@gmail.com>\nDate:   Thu Feb 7 10:25:00 2013 +0900\n\n    removed excessive output from git clone in notebook\n\n\u001b[33mcommit 75033f9e6ac366b4fd5546ab683fbbf65331d9af\u001b[m\nAuthor: Robert Johansson <jrjohansson@gmail.com>\nDate:   Thu Feb 7 10:16:29 2013 +0900\n\n    Added CC-BY as license for the notebooks. Closes #1.\n\n\u001b[33mcommit 79bb8f76b154dd9b30ad58ff1147db185eb875fd\u001b[m\nAuthor: Robert Johansson <jrjohansson@gmail.com>\nDate:   Wed Jan 23 17:16:49 2013 +0900\n\n    added links to github page\n\n\u001b[33mcommit 297d1fb26f207502105c9cf2c9554ad31c2ce299\u001b[m\nAuthor: Robert Johansson <jrjohansson@gmail.com>\nDate:   Fri Dec 21 11:07:36 2012 +0900\n\n    remove archive files\n\n\u001b[33mcommit 47ba13714881e644b7570e936f40bfc583a4dcda\u001b[m\nAuthor: Robert Johansson <jrjohansson@gmail.com>\nDate:   Fri Dec 14 16:51:53 2012 +0100\n\n    remove unnecessary directory\n\n\u001b[33mcommit 6e5903a48807a17d78ac243f94e38b3ca9f46066\u001b[m\nMerge: 4c1c5e8 1f15644\nAuthor: Robert Johansson <jrjohansson@gmail.com>\nDate:   Fri Dec 14 13:56:45 2012 +0100\n\n    Merge branch 'master' of github.com:jrjohansson/scientific-python-lectures\n\n\u001b[33mcommit 4c1c5e8ea22a900be1106a0049fa0a174adfe3ff\u001b[m\nAuthor: Robert Johansson <jrjohansson@gmail.com>\nDate:   Fri Dec 14 13:56:22 2012 +0100\n\n    updated mac installation instructions\n\n\u001b[33mcommit 1f15644e8bdf7590f32458f173e65b884c8ab5cb\u001b[m\nAuthor: Robert Johansson <jrjohansson@gmail.com>\nDate:   Tue Dec 11 21:46:00 2012 +0900\n\n    added urls to new notebooks\n\n\u001b[33mcommit a4f3f148d8e537c7f0716358edee194a88fd1665\u001b[m\nAuthor: Robert Johansson <jrjohansson@gmail.com>\nDate:   Mon Dec 10 20:42:04 2012 +0900\n\n    updaged archives\n\n\u001b[33mcommit 24c174d00a5bdaf14a9d6a7bcb2b7c955549bbaf\u001b[m\nAuthor: Robert Johansson <jrjohansson@gmail.com>\nDate:   Mon Dec 10 11:11:13 2012 +0100\n\n    added HPC notebook\n\n\u001b[33mcommit 8bbf262a9bef6c4cc5e002df6e103164a7078614\u001b[m\nAuthor: Robert Johansson <jrjohansson@gmail.com>\nDate:   Mon Dec 10 07:40:11 2012 +0100\n\n    updated RCS noteboook\n\n\u001b[33mcommit d0d6a70a9b717549306c6d595b4815c527b9a8ec\u001b[m\nAuthor: Robert Johansson <jrjohansson@gmail.com>\nDate:   Mon Dec 10 07:09:20 2012 +0100\n\n    added lecture notebook about RCS\n\n\u001b[33mcommit 2495af428aaefea851dea2fd4b8e8bc77119522c\u001b[m\nAuthor: Robert Johansson <jrjohansson@gmail.com>\nDate:   Sun Dec 9 20:26:11 2012 +0100\n\n    added stuff about ctypes and cython\n\n\u001b[33mcommit da6f436f41302520c2426abf0baaf8f19224a280\u001b[m\nAuthor: Robert Johansson <jrjohansson@gmail.com>\nDate:   Sun Dec 9 09:34:58 2012 +0100\n\n    Added a README file\n\n\u001b[33mcommit 19f776e81fe1efd214dfd9a28f4b208f0046cd72\u001b[m\nMerge: 9db5eaf b12a6e0\nAuthor: Robert Johansson <jrjohansson@gmail.com>\nDate:   Fri Dec 7 17:20:47 2012 +0900\n\n    Merge branch 'master' of github.com:jrjohansson/scientific-python-lectures\n\n\u001b[33mcommit b12a6e0f2d0bffef492e2355dd6d7d6a0eef45b3\u001b[m\nAuthor: Robert Johansson <jrjohansson@gmail.com>\nDate:   Fri Dec 7 08:30:21 2012 +0100\n\n    minor updates\n\n\u001b[33mcommit 9db5eaf720c4fe57b1b7135582bc73cdcae28269\u001b[m\nAuthor: Robert Johansson <jrjohansson@gmail.com>\nDate:   Fri Dec 7 15:48:19 2012 +0900\n\n    regenerated movie\n\n\u001b[33mcommit 13e17183c56da03c5f26acc9f8028c17f63d3b4c\u001b[m\nMerge: 2e5cf5f e55b247\nAuthor: Robert Johansson <jrjohansson@gmail.com>\nDate:   Fri Dec 7 07:39:03 2012 +0100\n\n    Merge branch 'master' of github.com:jrjohansson/scientific-python-lectures\n\n\u001b[33mcommit 2e5cf5fadfb68989b4846ff77d6a855d7c66c2f2\u001b[m\nAuthor: Robert Johansson <jrjohansson@gmail.com>\nDate:   Fri Dec 7 07:38:06 2012 +0100\n\n    minor additions and typo fixes\n\n\u001b[33mcommit e55b247c8c3ac6dd1401987957d4c024a62609cd\u001b[m\nAuthor: Robert Johansson <jrjohansson@gmail.com>\nDate:   Thu Dec 6 22:19:02 2012 +0900\n\n    added installation instructions for using Fink instead of macports\n\n\u001b[33mcommit 402bb65f7e82c280b0f19ef1ad09dfde0707b710\u001b[m\nAuthor: Robert Johansson <jrjohansson@gmail.com>\nDate:   Thu Dec 6 09:03:25 2012 +0100\n\n    minor updates and typo fixes\n\n\u001b[33mcommit bc5a3fd4dbe6fc97fed0bb2297f62c6da8ee83d8\u001b[m\nAuthor: Robert Johansson <jrjohansson@gmail.com>\nDate:   Thu Dec 6 08:12:15 2012 +0100\n\n    minor updates, typo fixes\n\n\u001b[33mcommit 35dc225eb08a09522bef450289470f449d4de0aa\u001b[m\nAuthor: Robert Johansson <jrjohansson@gmail.com>\nDate:   Thu Dec 6 07:54:45 2012 +0100\n\n    fixed typo\n\n\u001b[33mcommit 35c057e0306cea1b525b4bce70d9bb5228b793fb\u001b[m\nAuthor: Robert Johansson <jrjohansson@gmail.com>\nDate:   Wed Dec 5 07:04:47 2012 +0100\n\n    updated figs\n\n\u001b[33mcommit af2358522536100663bbb80caf7ce249a4ee3fec\u001b[m\nAuthor: Robert Johansson <jrjohansson@gmail.com>\nDate:   Wed Dec 5 06:59:10 2012 +0100\n\n    added new subfig\n\n\u001b[33mcommit fd7e0699c3fafa81699af324273a542a0f819bf9\u001b[m\nAuthor: Robert Johansson <jrjohansson@gmail.com>\nDate:   Tue Dec 4 18:14:28 2012 +0100\n\n    added archives\n\n\u001b[33mcommit 3cc4be6135f8a4f4dd0d69b4479094bb2a963327\u001b[m\nAuthor: Robert Johansson <jrjohansson@gmail.com>\nDate:   Tue Dec 4 18:11:04 2012 +0100\n\n    fixed typo\n\n\u001b[33mcommit 380a6744a0e0fcaab74694fc0f9643d1e6656ed1\u001b[m\nAuthor: Robert Johansson <jrjohansson@gmail.com>\nDate:   Tue Dec 4 17:56:30 2012 +0100\n\n    minor updates\n\n\u001b[33mcommit 3ea43c1ad956ecac84d5009333ef452b69a182b3\u001b[m\nAuthor: Robert Johansson <jrjohansson@gmail.com>\nDate:   Tue Dec 4 17:32:37 2012 +0100\n\n    added start on fortran-c-python lecture\n\n\u001b[33mcommit f443fbaa480c01673bdacba4f10257ef7f2aa983\u001b[m\nAuthor: Robert Johansson <jrjohansson@gmail.com>\nDate:   Tue Dec 4 07:48:23 2012 +0100\n\n    minor additions, fixed typos\n\n\u001b[33mcommit d3d6c3cffc3fd6794c9a5e410c2db7e3a628ea1c\u001b[m\nAuthor: Robert Johansson <jrjohansson@gmail.com>\nDate:   Mon Dec 3 21:39:31 2012 +0100\n\n    fixed typos\n\n\u001b[33mcommit ee9af6faea7f765354744edbfeb52f6b7f087610\u001b[m\nAuthor: Robert Johansson <jrjohansson@gmail.com>\nDate:   Fri Nov 30 12:56:33 2012 +0900\n\n    added PNGs or SVGs\n\n\u001b[33mcommit 29656641b013a1bf66c47d457b6f224d7a6c3e97\u001b[m\nAuthor: Robert Johansson <jrjohansson@gmail.com>\nDate:   Fri Nov 30 12:55:58 2012 +0900\n\n    use urls to github instead of local files so that nbviewer works\n\n\u001b[33mcommit a73fd26e3fbff6a2a9239d66d267cf082401df14\u001b[m\nAuthor: Robert Johansson <jrjohansson@gmail.com>\nDate:   Fri Nov 30 12:26:39 2012 +0900\n\n    added urls to notebooks via nbviewer in readme file\n\n\u001b[33mcommit 86d4e9b48ba0e0eae7d2476f3f1fdcbc94e31c4c\u001b[m\nAuthor: Robert Johansson <jrjohansson@gmail.com>\nDate:   Fri Nov 30 12:16:28 2012 +0900\n\n    added introduction lecture\n\n\u001b[33mcommit a419680209976d1c20ee6062e9613961c207ef2e\u001b[m\nAuthor: Robert Johansson <jrjohansson@gmail.com>\nDate:   Fri Nov 30 00:38:58 2012 +0900\n\n    rename\n\n\u001b[33mcommit 88f1c03d9b1ae122fc90e1f251abc1e837eb13e7\u001b[m\nAuthor: Robert Johansson <jrjohansson@gmail.com>\nDate:   Thu Nov 29 20:50:00 2012 +0900\n\n    added missing extra files\n\n\u001b[33mcommit 7ec2ad522915406d4704daaaa39cea95febd1228\u001b[m\nAuthor: Robert Johansson <jrjohansson@gmail.com>\nDate:   Thu Nov 29 20:46:10 2012 +0900\n\n    imported initial version of scientific computing lectures\n\n\u001b[33mcommit 200b15424c4058d44d251408bf890871a7fe0c93\u001b[m\nAuthor: Robert Johansson <jrjohansson@gmail.com>\nDate:   Thu Nov 29 03:43:35 2012 -0800\n\n    Initial commit\n"
    }
   ],
   "source": [
    "!git log"
   ]
  },
  {
   "cell_type": "markdown",
   "metadata": {},
   "source": [
    "In the commit log, each revision is shown with a timestampe, a unique has tag that, and author information and the commit message."
   ],
   "execution_count": null,
   "outputs": []
  },
  {
   "cell_type": "markdown",
   "metadata": {},
   "source": [
    "## Diffs"
   ],
   "execution_count": null,
   "outputs": []
  },
  {
   "cell_type": "markdown",
   "metadata": {},
   "source": [
    "All commits results in a changeset, which has a \"diff\" describing the changes to the file associated with it. We can use `git diff` so see what has changed in a file:"
   ],
   "execution_count": null,
   "outputs": []
  },
  {
   "cell_type": "code",
   "execution_count": 24,
   "metadata": {
    "collapsed": false
   },
   "outputs": [
    {
     "output_type": "stream",
     "name": "stdout",
     "text": "Overwriting README\n"
    }
   ],
   "source": [
    "%%file README\n",
    "\n",
    "A file with information about the gitdemo repository.\n",
    "\n",
    "README files usually contains installation instructions, and information about how to get started using the software (for example)."
   ]
  },
  {
   "cell_type": "code",
   "execution_count": 25,
   "metadata": {
    "collapsed": false
   },
   "outputs": [
    {
     "output_type": "stream",
     "name": "stdout",
     "text": "\u001b[1mdiff --git a/README b/README\u001b[m\n\u001b[1mindex 734ede0..1e85001 100644\u001b[m\n\u001b[1m--- a/README\u001b[m\n\u001b[1m+++ b/README\u001b[m\n\u001b[36m@@ -1,4 +1,4 @@\u001b[m\n \u001b[m\n A file with information about the gitdemo repository.\u001b[m\n \u001b[m\n\u001b[31m-A new line.\u001b[m\n\u001b[32m+\u001b[m\u001b[32mREADME files usually contains installation instructions, and information about how to get started using the software (for example).\u001b[m\n"
    }
   ],
   "source": [
    "!git diff README"
   ]
  },
  {
   "cell_type": "markdown",
   "metadata": {},
   "source": [
    "That looks quite cryptic but is a standard form for describing changes in files. We can use other tools, like graphical user interfaces or web based systems to get a more easily understandable diff.\n",
    "\n",
    "In github (a web-based GIT repository hosting service) it can look like this:"
   ],
   "execution_count": null,
   "outputs": []
  },
  {
   "cell_type": "code",
   "execution_count": 26,
   "metadata": {
    "collapsed": false
   },
   "outputs": [
    {
     "output_type": "execute_result",
     "data": {
      "image/png": "[encoded data removed]",
      "text/plain": "<IPython.core.display.Image object>"
     },
     "metadata": {},
     "execution_count": 26
    }
   ],
   "source": [
    "Image(filename='images/github-diff.png')"
   ]
  },
  {
   "cell_type": "markdown",
   "metadata": {},
   "source": [
    "## Discard changes in the working directory"
   ],
   "execution_count": null,
   "outputs": []
  },
  {
   "cell_type": "markdown",
   "metadata": {},
   "source": [
    "To discard a change (revert to the latest version in the repository) we can use the `checkout` command like this:"
   ],
   "execution_count": null,
   "outputs": []
  },
  {
   "cell_type": "code",
   "execution_count": 27,
   "metadata": {
    "collapsed": false
   },
   "outputs": [],
   "source": [
    "!git checkout -- README"
   ]
  },
  {
   "cell_type": "code",
   "execution_count": 28,
   "metadata": {
    "collapsed": false
   },
   "outputs": [
    {
     "output_type": "stream",
     "name": "stdout",
     "text": "On branch master\nYour branch is ahead of 'origin/master' by 5 commits.\n  (use \"git push\" to publish your local commits)\n\nChanges not staged for commit:\n  (use \"git add <file>...\" to update what will be committed)\n  (use \"git restore <file>...\" to discard changes in working directory)\n\t\u001b[31mmodified:   Lecture-0-Scientific-Computing-with-Python.ipynb\u001b[m\n\t\u001b[31mmodified:   Lecture-1-Introduction-to-Python-Programming.ipynb\u001b[m\n\t\u001b[31mmodified:   Lecture-3-Scipy.ipynb\u001b[m\n\t\u001b[31mmodified:   Lecture-5-Sympy.ipynb\u001b[m\n\t\u001b[31mmodified:   Lecture-6A-Fortran-and-C.ipynb\u001b[m\n\t\u001b[31mmodified:   Lecture-6B-HPC.ipynb\u001b[m\n\t\u001b[31mmodified:   Lecture-7-Revision-Control-Software.ipynb\u001b[m\n\nUntracked files:\n  (use \"git add <file>...\" to include in what will be committed)\n\t\u001b[31m.ipynb_checkpoints/\u001b[m\n\t\u001b[31m.vscode/\u001b[m\n\t\u001b[31mcy_dcumsum.pyx\u001b[m\n\t\u001b[31mdcumsum.f\u001b[m\n\t\u001b[31mdprod.f\u001b[m\n\t\u001b[31mdprod.pyf\u001b[m\n\t\u001b[31mfunctions.c\u001b[m\n\t\u001b[31mfunctions.o\u001b[m\n\t\u001b[31mfunctions.py\u001b[m\n\t\u001b[31mhello.py\u001b[m\n\t\u001b[31mhellofortran.f\u001b[m\n\t\u001b[31mmpi-matrix-vector.py\u001b[m\n\t\u001b[31mmpi-numpy-array.py\u001b[m\n\t\u001b[31mmpi-psum.py\u001b[m\n\t\u001b[31mmpitest.py\u001b[m\n\t\u001b[31mmymodule.py\u001b[m\n\t\u001b[31mopencl-dense-mv.py\u001b[m\n\t\u001b[31mqutip/\u001b[m\n\t\u001b[31mrandom-matrix.npy\u001b[m\n\t\u001b[31mrandom-vector.npy\u001b[m\n\t\u001b[31mrun_hello_c.py\u001b[m\n\t\u001b[31msetup.py\u001b[m\n\nno changes added to commit (use \"git add\" and/or \"git commit -a\")\n"
    }
   ],
   "source": [
    "!git status"
   ]
  },
  {
   "cell_type": "markdown",
   "metadata": {},
   "source": [
    "## Checking out old revisions"
   ],
   "execution_count": null,
   "outputs": []
  },
  {
   "cell_type": "markdown",
   "metadata": {},
   "source": [
    "If we want to get the code for a specific revision, we can use \"git checkout\" and giving it the hash code for the revision we are interested as argument:"
   ],
   "execution_count": null,
   "outputs": []
  },
  {
   "cell_type": "code",
   "execution_count": 29,
   "metadata": {
    "collapsed": false,
    "tags": [
     "outputPrepend"
    ]
   },
   "outputs": [
    {
     "output_type": "stream",
     "name": "stdout",
     "text": "FMpeg workaround, clarification\n\n\u001b[33mcommit 5e82ad23bcd3bacb3e731c7527a5d0264a41f146\u001b[m\nMerge: 8c046ac 363e92c\nAuthor: Robert Johansson <jrjohansson@gmail.com>\nDate:   Wed Nov 27 14:38:31 2013 -0800\n\n    Merge pull request #11 from anddam/patch-1\n    \n    fixing typo: added missing word\n\n\u001b[33mcommit 363e92ceefcecc601976ddfa7b812c6b473dd483\u001b[m\nAuthor: Andrea D'Amore <anddam@brapi.net>\nDate:   Wed Nov 27 16:16:39 2013 +0100\n\n    fixing typo: added missing word\n\n\u001b[33mcommit 8c046acdc909667488811237fb85d029143e99a1\u001b[m\nAuthor: Robert Johansson <jrjohansson@gmail.com>\nDate:   Tue Nov 19 00:37:58 2013 +0900\n\n    fixed a couple of grammar and spelling errors\n\n\u001b[33mcommit 4bdc21ae7f3ca7a584cc23a3da55f8503d173104\u001b[m\nAuthor: Robert Johansson <jrjohansson@gmail.com>\nDate:   Tue Nov 19 00:18:48 2013 +0900\n\n    fix typo: this example should be a syntax error\n\n\u001b[33mcommit 1b903019834ab47b78e55f86717fcdf57cb6e95b\u001b[m\nMerge: 68fd7b9 bd6d1cf\nAuthor: Robert Johansson <jrjohansson@gmail.com>\nDate:   Mon Nov 18 05:49:01 2013 -0800\n\n    Merge pull request #9 from janpipek/master\n    \n    Logarithmic scale + histograms to matplotlib text\n\n\u001b[33mcommit bd6d1cf82bde9f31905ee58d0cd2e1a63a6dd10f\u001b[m\nAuthor: Jan Pipek <pipek@ipp.cas.cz>\nDate:   Mon Nov 18 11:59:48 2013 +0100\n\n    Matplotlib: histograms\n\n\u001b[33mcommit 3285e81e02a648ac9c03e3778a9463821d68bdc7\u001b[m\nAuthor: Jan Pipek <pipek@ipp.cas.cz>\nDate:   Mon Nov 18 11:57:08 2013 +0100\n\n    Matplotlib: Logarithmic scale\n\n\u001b[33mcommit 68fd7b99e1cf79a550b2b335d20bb994070a3768\u001b[m\nAuthor: Robert Johansson <jrjohansson@gmail.com>\nDate:   Mon Nov 11 15:12:40 2013 +0900\n\n    ran notebook with python3. added version information table.\n\n\u001b[33mcommit 4c5aea0c465b5c412cb9cc4a15df327ca0e29864\u001b[m\nAuthor: Robert Johansson <jrjohansson@gmail.com>\nDate:   Mon Nov 11 15:08:41 2013 +0900\n\n    fixed some python3 compability issues\n\n\u001b[33mcommit 0c4b617ccd809dec852678c3f3793d67c32d2357\u001b[m\nAuthor: Robert Johansson <jrjohansson@gmail.com>\nDate:   Mon Sep 30 15:57:28 2013 +0900\n\n    added note about %config InlineBackend\n\n\u001b[33mcommit fcb3044f9a3b95b74d0283cf7bf2d9f56c3fd7b2\u001b[m\nAuthor: Robert Johansson <jrjohansson@gmail.com>\nDate:   Mon Sep 30 15:40:44 2013 +0900\n\n    changes make_axes (wrong) to fig.add_axes\n\n\u001b[33mcommit 52f5b2aec24a077c21cb417842155ff7a798df94\u001b[m\nAuthor: Robert Johansson <jrjohansson@gmail.com>\nDate:   Sat Sep 7 11:05:36 2013 +0900\n\n    rephrase note on replicability and reproducibility\n\n\u001b[33mcommit 0cd9434239db08d2d73bbe2ef440ff2e30ff45c0\u001b[m\nMerge: a35e372 6f96618\nAuthor: Robert Johansson <jrjohansson@gmail.com>\nDate:   Sat Aug 31 18:39:37 2013 -0700\n\n    Merge pull request #8 from gfrubi/master\n    \n    more typos corrected in Lecture 3\n\n\u001b[33mcommit 6f966189d0b6992640c2d5b18a9d37f08b90e70b\u001b[m\nAuthor: Guillermo <gfrubi@users.noreply.github.com>\nDate:   Thu Aug 29 21:31:49 2013 -0400\n\n    typos\n\n\u001b[33mcommit 116b9c42cea07add280fa347826277e090398e8a\u001b[m\nAuthor: Guillermo <gfrubi@users.noreply.github.com>\nDate:   Thu Aug 29 15:52:15 2013 -0400\n\n    typos\n\n\u001b[33mcommit 8d73e06731ac0c23944b83f07bc81f4cc22535a7\u001b[m\nAuthor: Guillermo <gfrubi@users.noreply.github.com>\nDate:   Thu Aug 29 15:42:28 2013 -0400\n\n    corrected \"zeres\"\n\n\u001b[33mcommit f583f7ffe3ef79328806bd55efc013c79754781b\u001b[m\nAuthor: Guillermo <gfrubi@users.noreply.github.com>\nDate:   Thu Aug 29 15:38:03 2013 -0400\n\n    typos\n\n\u001b[33mcommit a35e372793767201391c5159d78de5760e06abfd\u001b[m\nMerge: 3dc5ac4 25c7383\nAuthor: Robert Johansson <jrjohansson@gmail.com>\nDate:   Sat Aug 17 00:05:10 2013 +0900\n\n    Manually merged PR #7\n\n\u001b[33mcommit 25c7383048d60d703858a960c4eea79ae8170f39\u001b[m\nAuthor: Guillermo <gfrubi@users.noreply.github.com>\nDate:   Wed Aug 14 19:09:41 2013 -0400\n\n    typo\n\n\u001b[33mcommit 4a6faf53aaaf4b71aa25ba20ee7c2d2441e1d840\u001b[m\nAuthor: Guillermo <gfrubi@users.noreply.github.com>\nDate:   Wed Aug 14 17:44:00 2013 -0400\n\n    \"are\" should be \"is\"\n\n\u001b[33mcommit 69cc3169db832f5b57c6cc13959677630400e637\u001b[m\nAuthor: Guillermo <gfrubi@users.noreply.github.com>\nDate:   Wed Aug 14 11:19:55 2013 -0400\n\n    typo\n\n\u001b[33mcommit 844d495d3f68e3577527be727e026f5bd671b8ee\u001b[m\nAuthor: Guillermo <gfrubi@users.noreply.github.com>\nDate:   Tue Aug 13 14:50:54 2013 -0400\n\n    small typos\n\n\u001b[33mcommit 4d45ae28840a5ff7f45649c11cbff76329e977ea\u001b[m\nAuthor: Guillermo <gfrubi@users.noreply.github.com>\nDate:   Mon Aug 12 14:42:29 2013 -0400\n\n    removed \"the\" from \"Using THE `numpy.savetxt`...\"\n\n\u001b[33mcommit d7b5ee5125322757c94451ddb4095e8eedba7824\u001b[m\nAuthor: Guillermo <gfrubi@users.noreply.github.com>\nDate:   Mon Aug 12 14:37:53 2013 -0400\n\n    typo: \"tempature\" to \"temperature\"\n\n\u001b[33mcommit ba911c59b9c1308060e78072b1e5d8409718d23b\u001b[m\nAuthor: Guillermo <gfrubi@gmail.com>\nDate:   Sun Aug 11 00:46:06 2013 -0400\n\n    typo\n\n\u001b[33mcommit 90f9404d1b02fd1d8e6f7d6a2de4d108d4f4d5a7\u001b[m\nAuthor: Guillermo <gfrubi@gmail.com>\nDate:   Sun Aug 11 00:34:09 2013 -0400\n\n    small typo\n\n\u001b[33mcommit 3dc5ac4fb0fc36db0cd4645d219202796a5656f3\u001b[m\nMerge: 059c1eb 6920d5b\nAuthor: Robert Johansson <jrjohansson@gmail.com>\nDate:   Fri Aug 9 18:26:37 2013 -0700\n\n    Merge pull request #6 from gfrubi/master\n    \n    more small corrections to the text\n\n\u001b[33mcommit 6920d5b38cd34703146523e7452530b57429d5a1\u001b[m\nAuthor: Guillermo <gfrubi@gmail.com>\nDate:   Fri Aug 9 18:39:12 2013 -0400\n\n    typos with \"expection\"\n\n\u001b[33mcommit ea1aba2d8beb765a8dd358d75b5ce3024b2cf67a\u001b[m\nAuthor: Guillermo <gfrubi@gmail.com>\nDate:   Fri Aug 9 18:32:36 2013 -0400\n\n    typo\n\n\u001b[33mcommit 9fc54a9eeb3a67254196c1f4e9c4619976195a5c\u001b[m\nAuthor: Guillermo <gfrubi@gmail.com>\nDate:   Fri Aug 9 18:28:25 2013 -0400\n\n    small typo\n\n\u001b[33mcommit 8f259bd1b8819ca84cbf42baa3d09bc33c990805\u001b[m\nAuthor: Guillermo <gfrubi@gmail.com>\nDate:   Fri Aug 9 18:02:34 2013 -0400\n\n    small typo\n\n\u001b[33mcommit f1b8788ff070e1198f7cb8c3b5a32d262c0f6da7\u001b[m\nAuthor: Guillermo <gfrubi@gmail.com>\nDate:   Fri Aug 9 17:59:39 2013 -0400\n\n    removed \"the\" from \"of THE that particular class...\"\n\n\u001b[33mcommit 8dfd5898ded19907033afe414c6707f44e4b2779\u001b[m\nAuthor: Guillermo <gfrubi@gmail.com>\nDate:   Fri Aug 9 17:43:21 2013 -0400\n\n    Fixed plural to singular\n\n\u001b[33mcommit 0bb9f8f2222f2b54e0955874f3f8eaccc5f45da2\u001b[m\nAuthor: Guillermo <gfrubi@gmail.com>\nDate:   Fri Aug 9 16:33:41 2013 -0400\n\n    \"lists\" replaced by \"dictionaries\", since this is what the text is reffering to\n\n\u001b[33mcommit 9ffd7f6841b225617fdd2da6aa788c9252c95949\u001b[m\nAuthor: Guillermo <gfrubi@gmail.com>\nDate:   Fri Aug 9 16:18:37 2013 -0400\n\n    Bad sentence corrected\n\n\u001b[33mcommit 83869535a6f22fe2afa4562ed48d03002cf8c389\u001b[m\nAuthor: Guillermo <gfrubi@gmail.com>\nDate:   Fri Aug 9 15:26:11 2013 -0400\n\n    small typo: \"use\" removed from \"We can USE extract a part...\"\n\n\u001b[33mcommit 29183d0d0fe6db44bc903f9c83d7a4921f7b0eb2\u001b[m\nAuthor: Guillermo <gfrubi@gmail.com>\nDate:   Thu Aug 8 12:09:56 2013 -0400\n\n    added \"that\" to \"...definitions THAT can be used...\"\n\n\u001b[33mcommit e968df274546b2633ad4d446e0639048f918ec3b\u001b[m\nAuthor: Guillermo <gfrubi@gmail.com>\nDate:   Thu Aug 8 11:54:42 2013 -0400\n\n    small typo: \"varable\" to \"variable\"\n\n\u001b[33mcommit 059c1eb1bf62f4804388abfe310053bd99f9095d\u001b[m\nAuthor: Robert Johansson <jrjohansson@gmail.com>\nDate:   Thu Aug 8 17:00:44 2013 +0900\n\n    use header cells instead of markdown headings\n\n\u001b[33mcommit 23fc637a378d5b237e5a6b4c1d8ff9e70e8c73fd\u001b[m\nAuthor: Robert Johansson <jrjohansson@gmail.com>\nDate:   Thu Aug 8 16:44:01 2013 +0900\n\n    added versions table\n\n\u001b[33mcommit ce8c6ad1d120e7990580464620d7b92d14d827c0\u001b[m\nAuthor: Robert Johansson <jrjohansson@gmail.com>\nDate:   Thu Aug 8 16:42:50 2013 +0900\n\n    added versions table\n\n\u001b[33mcommit ae2b44e25a8525a1ab2cee396e53607692c214da\u001b[m\nAuthor: Robert Johansson <jrjohansson@gmail.com>\nDate:   Thu Aug 8 12:38:46 2013 +0900\n\n    added ax=ax to fig.colorbar call, which is useful when packing figures with colorbars into subplots\n\n\u001b[33mcommit ae364b6992ba1754859e80ccd056fe09a8b60ff4\u001b[m\nAuthor: Robert Johansson <jrjohansson@gmail.com>\nDate:   Thu Aug 8 12:29:24 2013 +0900\n\n    use header cells instead of markdown headers. added note about matplotlib magic, more consistent use of plt namespace in OO API examples\n\n\u001b[33mcommit bc93fcbc3402430e5311604cebbe6cef71cfd091\u001b[m\nAuthor: Robert Johansson <jrjohansson@gmail.com>\nDate:   Thu Aug 8 12:05:45 2013 +0900\n\n    use header cells instead of markdown titles for better nbconvert compatibility\n\n\u001b[33mcommit 44d17a2a7498fba14482d5b3aeb43eddecb58611\u001b[m\nAuthor: Robert Johansson <jrjohansson@gmail.com>\nDate:   Thu Aug 8 11:52:38 2013 +0900\n\n    Added section about version_information\n\n\u001b[33mcommit c93a27a654886b7534f7707c5dc53c2b88e90fe2\u001b[m\nAuthor: Robert Johansson <jrjohansson@gmail.com>\nDate:   Thu Aug 8 11:02:11 2013 +0900\n\n    updated link to IPython notebook\n\n\u001b[33mcommit c0e73c9ef461e1313d25598772a1324c1256ea47\u001b[m\nMerge: d8b027f f4171b0\nAuthor: Robert Johansson <jrjohansson@gmail.com>\nDate:   Wed Aug 7 18:55:06 2013 -0700\n\n    Merge pull request #4 from gfrubi/master\n    \n    fixed link to Ipython notebook in lecture 0\n\n\u001b[33mcommit f4171b06aa029d065d91735e2871fde49982778a\u001b[m\nAuthor: Guillermo <gfrubi@gmail.com>\nDate:   Wed Aug 7 20:00:36 2013 -0400\n\n    fixed typo: \"This is pattern...\" to \"This pattern...\"\n\n\u001b[33mcommit fbb3c0d87f95d99ae0b45f87706a78fe33af0e0d\u001b[m\nAuthor: Guillermo <gfrubi@gmail.com>\nDate:   Wed Aug 7 19:53:14 2013 -0400\n\n    corrected typo (double \"for\")\n\n\u001b[33mcommit 9ab7e545f74b74dbd6b2aee2a420558839097879\u001b[m\nAuthor: Guillermo <gfrubi@gmail.com>\nDate:   Wed Aug 7 19:13:01 2013 -0400\n\n    fixed link to Ipython notebook\n\n\u001b[33mcommit d8b027f435f050172f4b8a307f38c573abb19937\u001b[m\nAuthor: Robert Johansson <jrjohansson@gmail.com>\nDate:   Sat Jun 15 09:24:09 2013 +0900\n\n    reran the notebook after cython code updated by jfeist. Added note about using IPythons %%cython magic.\n\n\u001b[33mcommit 11c4be54a8004a8ff50d720955fb02a35e8ecbc7\u001b[m\nMerge: 09ce4af 3ad9c75\nAuthor: Robert Johansson <jrjohansson@gmail.com>\nDate:   Fri Jun 14 08:49:48 2013 -0700\n\n    Merge pull request #3 from jfeist/master\n    \n    some small fixes\n\n\u001b[33mcommit 3ad9c75d0873a2443ad257cb954d62b0a79165a8\u001b[m\nAuthor: Johannes Feist <johannes.feist@gmail.com>\nDate:   Fri Jun 14 17:09:43 2013 +0200\n\n    in the cython example of lecture 6A: added a cdef for int i as well, giving speedup of more than 100x\n\n\u001b[33mcommit 2e40ce5c48a0884ae6a4dad8b7707fc1925d0999\u001b[m\nAuthor: Johannes Feist <johannes.feist@gmail.com>\nDate:   Fri Jun 14 16:35:34 2013 +0200\n\n    fixed some typos in lecture 5\n\n\u001b[33mcommit 3f5caf8410b4d649fcd8c5c3b91fcbd7871f83ce\u001b[m\nAuthor: Johannes Feist <johannes.feist@gmail.com>\nDate:   Fri Jun 14 16:21:38 2013 +0200\n\n    fixed two typos in lecture 1\n\n\u001b[33mcommit 09ce4af2c2822678f38257852f5abbb1b9665417\u001b[m\nAuthor: Robert Johansson <jrjohansson@gmail.com>\nDate:   Wed Jun 12 23:55:00 2013 +0900\n\n    added example of how to efficiently evaluate expressions using lambdify\n\n\u001b[33mcommit b20823e1f1fa5fa19c897830d6a81d02b381bdb2\u001b[m\nAuthor: Robert Johansson <jrjohansson@gmail.com>\nDate:   Wed Jun 12 00:44:24 2013 +0900\n\n    fixed typo in explanation of add_axes arguments (thanks to Derek Bridges)\n\n\u001b[33mcommit 3fdedfabebbf870cc4110e1df85ac81f20a74b13\u001b[m\nAuthor: Robert Johansson <jrjohansson@gmail.com>\nDate:   Fri May 10 21:06:01 2013 +0900\n\n    fixed problem with animation figure being showed. added arguments to animation save to make it work on mac. some spell fixes.\n\n\u001b[33mcommit 46caf73baf20920bdc1a4c10965b15a7caaa6850\u001b[m\nAuthor: Robert Johansson <jrjohansson@gmail.com>\nDate:   Wed May 1 16:15:43 2013 +0900\n\n    fixed a python 3 syntax error\n\n\u001b[33mcommit 7703269d3f7e11d0df72701f7d61ba4d9e6695bc\u001b[m\nAuthor: Robert Johansson <jrjohansson@gmail.com>\nDate:   Mon Apr 29 16:37:36 2013 +0900\n\n    python3 fixes\n\n\u001b[33mcommit c0844f6caa98b7ea0695a86add9a2e5be7538406\u001b[m\nAuthor: Robert Johansson <jrjohansson@gmail.com>\nDate:   Sun Apr 14 11:40:36 2013 +0900\n\n    spelling and grammar fixes\n\n\u001b[33mcommit 99fb70c8f0c55a6605397e68af00bd8a5721874a\u001b[m\nAuthor: Robert Johansson <jrjohansson@gmail.com>\nDate:   Tue Feb 19 11:54:47 2013 +0900\n\n    spelling, grammar and terminology fixes\n\n\u001b[33mcommit 5ba305b265636ddc06a37461811ff550736cf06d\u001b[m\nAuthor: Robert Johansson <jrjohansson@gmail.com>\nDate:   Tue Feb 19 11:33:13 2013 +0900\n\n    added some examples on how to use IPython.parallel\n\n\u001b[33mcommit b5f8c55bd27a87974f9be97b819796032028a04b\u001b[m\nAuthor: Robert Johansson <jrjohansson@gmail.com>\nDate:   Mon Feb 18 11:32:07 2013 +0900\n\n    ran a spell checker on the notebook...\n\n\u001b[33mcommit 403fdc71e7389f42b54c2c67524441c2566b1e18\u001b[m\nAuthor: Robert Johansson <jrjohansson@gmail.com>\nDate:   Mon Feb 18 11:19:53 2013 +0900\n\n    bugfix in the opencl example\n\n\u001b[33mcommit 72e8a1a7ec81c5e36d18aaca540c394a4f1dba6c\u001b[m\nAuthor: Robert Johansson <jrjohansson@gmail.com>\nDate:   Mon Feb 18 10:55:43 2013 +0900\n\n    Fixes #2: correctly compare mpi sum and numpy sum, and make sure that all processes get the same random data to sum up..\n\n\u001b[33mcommit 196b77fd7955ffaf22e5a16f14fa5d6e16a8d9c9\u001b[m\nAuthor: Robert Johansson <jrjohansson@gmail.com>\nDate:   Thu Feb 7 10:25:00 2013 +0900\n\n    removed excessive output from git clone in notebook\n\n\u001b[33mcommit 75033f9e6ac366b4fd5546ab683fbbf65331d9af\u001b[m\nAuthor: Robert Johansson <jrjohansson@gmail.com>\nDate:   Thu Feb 7 10:16:29 2013 +0900\n\n    Added CC-BY as license for the notebooks. Closes #1.\n\n\u001b[33mcommit 79bb8f76b154dd9b30ad58ff1147db185eb875fd\u001b[m\nAuthor: Robert Johansson <jrjohansson@gmail.com>\nDate:   Wed Jan 23 17:16:49 2013 +0900\n\n    added links to github page\n\n\u001b[33mcommit 297d1fb26f207502105c9cf2c9554ad31c2ce299\u001b[m\nAuthor: Robert Johansson <jrjohansson@gmail.com>\nDate:   Fri Dec 21 11:07:36 2012 +0900\n\n    remove archive files\n\n\u001b[33mcommit 47ba13714881e644b7570e936f40bfc583a4dcda\u001b[m\nAuthor: Robert Johansson <jrjohansson@gmail.com>\nDate:   Fri Dec 14 16:51:53 2012 +0100\n\n    remove unnecessary directory\n\n\u001b[33mcommit 6e5903a48807a17d78ac243f94e38b3ca9f46066\u001b[m\nMerge: 4c1c5e8 1f15644\nAuthor: Robert Johansson <jrjohansson@gmail.com>\nDate:   Fri Dec 14 13:56:45 2012 +0100\n\n    Merge branch 'master' of github.com:jrjohansson/scientific-python-lectures\n\n\u001b[33mcommit 4c1c5e8ea22a900be1106a0049fa0a174adfe3ff\u001b[m\nAuthor: Robert Johansson <jrjohansson@gmail.com>\nDate:   Fri Dec 14 13:56:22 2012 +0100\n\n    updated mac installation instructions\n\n\u001b[33mcommit 1f15644e8bdf7590f32458f173e65b884c8ab5cb\u001b[m\nAuthor: Robert Johansson <jrjohansson@gmail.com>\nDate:   Tue Dec 11 21:46:00 2012 +0900\n\n    added urls to new notebooks\n\n\u001b[33mcommit a4f3f148d8e537c7f0716358edee194a88fd1665\u001b[m\nAuthor: Robert Johansson <jrjohansson@gmail.com>\nDate:   Mon Dec 10 20:42:04 2012 +0900\n\n    updaged archives\n\n\u001b[33mcommit 24c174d00a5bdaf14a9d6a7bcb2b7c955549bbaf\u001b[m\nAuthor: Robert Johansson <jrjohansson@gmail.com>\nDate:   Mon Dec 10 11:11:13 2012 +0100\n\n    added HPC notebook\n\n\u001b[33mcommit 8bbf262a9bef6c4cc5e002df6e103164a7078614\u001b[m\nAuthor: Robert Johansson <jrjohansson@gmail.com>\nDate:   Mon Dec 10 07:40:11 2012 +0100\n\n    updated RCS noteboook\n\n\u001b[33mcommit d0d6a70a9b717549306c6d595b4815c527b9a8ec\u001b[m\nAuthor: Robert Johansson <jrjohansson@gmail.com>\nDate:   Mon Dec 10 07:09:20 2012 +0100\n\n    added lecture notebook about RCS\n\n\u001b[33mcommit 2495af428aaefea851dea2fd4b8e8bc77119522c\u001b[m\nAuthor: Robert Johansson <jrjohansson@gmail.com>\nDate:   Sun Dec 9 20:26:11 2012 +0100\n\n    added stuff about ctypes and cython\n\n\u001b[33mcommit da6f436f41302520c2426abf0baaf8f19224a280\u001b[m\nAuthor: Robert Johansson <jrjohansson@gmail.com>\nDate:   Sun Dec 9 09:34:58 2012 +0100\n\n    Added a README file\n\n\u001b[33mcommit 19f776e81fe1efd214dfd9a28f4b208f0046cd72\u001b[m\nMerge: 9db5eaf b12a6e0\nAuthor: Robert Johansson <jrjohansson@gmail.com>\nDate:   Fri Dec 7 17:20:47 2012 +0900\n\n    Merge branch 'master' of github.com:jrjohansson/scientific-python-lectures\n\n\u001b[33mcommit b12a6e0f2d0bffef492e2355dd6d7d6a0eef45b3\u001b[m\nAuthor: Robert Johansson <jrjohansson@gmail.com>\nDate:   Fri Dec 7 08:30:21 2012 +0100\n\n    minor updates\n\n\u001b[33mcommit 9db5eaf720c4fe57b1b7135582bc73cdcae28269\u001b[m\nAuthor: Robert Johansson <jrjohansson@gmail.com>\nDate:   Fri Dec 7 15:48:19 2012 +0900\n\n    regenerated movie\n\n\u001b[33mcommit 13e17183c56da03c5f26acc9f8028c17f63d3b4c\u001b[m\nMerge: 2e5cf5f e55b247\nAuthor: Robert Johansson <jrjohansson@gmail.com>\nDate:   Fri Dec 7 07:39:03 2012 +0100\n\n    Merge branch 'master' of github.com:jrjohansson/scientific-python-lectures\n\n\u001b[33mcommit 2e5cf5fadfb68989b4846ff77d6a855d7c66c2f2\u001b[m\nAuthor: Robert Johansson <jrjohansson@gmail.com>\nDate:   Fri Dec 7 07:38:06 2012 +0100\n\n    minor additions and typo fixes\n\n\u001b[33mcommit e55b247c8c3ac6dd1401987957d4c024a62609cd\u001b[m\nAuthor: Robert Johansson <jrjohansson@gmail.com>\nDate:   Thu Dec 6 22:19:02 2012 +0900\n\n    added installation instructions for using Fink instead of macports\n\n\u001b[33mcommit 402bb65f7e82c280b0f19ef1ad09dfde0707b710\u001b[m\nAuthor: Robert Johansson <jrjohansson@gmail.com>\nDate:   Thu Dec 6 09:03:25 2012 +0100\n\n    minor updates and typo fixes\n\n\u001b[33mcommit bc5a3fd4dbe6fc97fed0bb2297f62c6da8ee83d8\u001b[m\nAuthor: Robert Johansson <jrjohansson@gmail.com>\nDate:   Thu Dec 6 08:12:15 2012 +0100\n\n    minor updates, typo fixes\n\n\u001b[33mcommit 35dc225eb08a09522bef450289470f449d4de0aa\u001b[m\nAuthor: Robert Johansson <jrjohansson@gmail.com>\nDate:   Thu Dec 6 07:54:45 2012 +0100\n\n    fixed typo\n\n\u001b[33mcommit 35c057e0306cea1b525b4bce70d9bb5228b793fb\u001b[m\nAuthor: Robert Johansson <jrjohansson@gmail.com>\nDate:   Wed Dec 5 07:04:47 2012 +0100\n\n    updated figs\n\n\u001b[33mcommit af2358522536100663bbb80caf7ce249a4ee3fec\u001b[m\nAuthor: Robert Johansson <jrjohansson@gmail.com>\nDate:   Wed Dec 5 06:59:10 2012 +0100\n\n    added new subfig\n\n\u001b[33mcommit fd7e0699c3fafa81699af324273a542a0f819bf9\u001b[m\nAuthor: Robert Johansson <jrjohansson@gmail.com>\nDate:   Tue Dec 4 18:14:28 2012 +0100\n\n    added archives\n\n\u001b[33mcommit 3cc4be6135f8a4f4dd0d69b4479094bb2a963327\u001b[m\nAuthor: Robert Johansson <jrjohansson@gmail.com>\nDate:   Tue Dec 4 18:11:04 2012 +0100\n\n    fixed typo\n\n\u001b[33mcommit 380a6744a0e0fcaab74694fc0f9643d1e6656ed1\u001b[m\nAuthor: Robert Johansson <jrjohansson@gmail.com>\nDate:   Tue Dec 4 17:56:30 2012 +0100\n\n    minor updates\n\n\u001b[33mcommit 3ea43c1ad956ecac84d5009333ef452b69a182b3\u001b[m\nAuthor: Robert Johansson <jrjohansson@gmail.com>\nDate:   Tue Dec 4 17:32:37 2012 +0100\n\n    added start on fortran-c-python lecture\n\n\u001b[33mcommit f443fbaa480c01673bdacba4f10257ef7f2aa983\u001b[m\nAuthor: Robert Johansson <jrjohansson@gmail.com>\nDate:   Tue Dec 4 07:48:23 2012 +0100\n\n    minor additions, fixed typos\n\n\u001b[33mcommit d3d6c3cffc3fd6794c9a5e410c2db7e3a628ea1c\u001b[m\nAuthor: Robert Johansson <jrjohansson@gmail.com>\nDate:   Mon Dec 3 21:39:31 2012 +0100\n\n    fixed typos\n\n\u001b[33mcommit ee9af6faea7f765354744edbfeb52f6b7f087610\u001b[m\nAuthor: Robert Johansson <jrjohansson@gmail.com>\nDate:   Fri Nov 30 12:56:33 2012 +0900\n\n    added PNGs or SVGs\n\n\u001b[33mcommit 29656641b013a1bf66c47d457b6f224d7a6c3e97\u001b[m\nAuthor: Robert Johansson <jrjohansson@gmail.com>\nDate:   Fri Nov 30 12:55:58 2012 +0900\n\n    use urls to github instead of local files so that nbviewer works\n\n\u001b[33mcommit a73fd26e3fbff6a2a9239d66d267cf082401df14\u001b[m\nAuthor: Robert Johansson <jrjohansson@gmail.com>\nDate:   Fri Nov 30 12:26:39 2012 +0900\n\n    added urls to notebooks via nbviewer in readme file\n\n\u001b[33mcommit 86d4e9b48ba0e0eae7d2476f3f1fdcbc94e31c4c\u001b[m\nAuthor: Robert Johansson <jrjohansson@gmail.com>\nDate:   Fri Nov 30 12:16:28 2012 +0900\n\n    added introduction lecture\n\n\u001b[33mcommit a419680209976d1c20ee6062e9613961c207ef2e\u001b[m\nAuthor: Robert Johansson <jrjohansson@gmail.com>\nDate:   Fri Nov 30 00:38:58 2012 +0900\n\n    rename\n\n\u001b[33mcommit 88f1c03d9b1ae122fc90e1f251abc1e837eb13e7\u001b[m\nAuthor: Robert Johansson <jrjohansson@gmail.com>\nDate:   Thu Nov 29 20:50:00 2012 +0900\n\n    added missing extra files\n\n\u001b[33mcommit 7ec2ad522915406d4704daaaa39cea95febd1228\u001b[m\nAuthor: Robert Johansson <jrjohansson@gmail.com>\nDate:   Thu Nov 29 20:46:10 2012 +0900\n\n    imported initial version of scientific computing lectures\n\n\u001b[33mcommit 200b15424c4058d44d251408bf890871a7fe0c93\u001b[m\nAuthor: Robert Johansson <jrjohansson@gmail.com>\nDate:   Thu Nov 29 03:43:35 2012 -0800\n\n    Initial commit\n"
    }
   ],
   "source": [
    "!git log"
   ]
  },
  {
   "cell_type": "code",
   "execution_count": 30,
   "metadata": {
    "collapsed": false
   },
   "outputs": [
    {
     "output_type": "stream",
     "name": "stdout",
     "text": "fatal: reference is not a tree: 1f26ad648a791e266fbb951ef5c49b8d990e6461\n"
    }
   ],
   "source": [
    "!git checkout 1f26ad648a791e266fbb951ef5c49b8d990e6461"
   ]
  },
  {
   "cell_type": "markdown",
   "metadata": {},
   "source": [
    "Now the content of all the files like in the revision with the hash code listed above (first revision)"
   ],
   "execution_count": null,
   "outputs": []
  },
  {
   "cell_type": "code",
   "execution_count": 31,
   "metadata": {
    "collapsed": false
   },
   "outputs": [
    {
     "output_type": "stream",
     "name": "stdout",
     "text": "\nA file with information about the gitdemo repository.\n\nA new line.\n"
    }
   ],
   "source": [
    "!cat README"
   ]
  },
  {
   "cell_type": "markdown",
   "metadata": {},
   "source": [
    "We can move back to \"the latest\" (master) with the command:"
   ],
   "execution_count": null,
   "outputs": []
  },
  {
   "cell_type": "code",
   "execution_count": 32,
   "metadata": {
    "collapsed": false
   },
   "outputs": [
    {
     "output_type": "stream",
     "name": "stdout",
     "text": "M\tLecture-0-Scientific-Computing-with-Python.ipynb\nM\tLecture-1-Introduction-to-Python-Programming.ipynb\nM\tLecture-3-Scipy.ipynb\nM\tLecture-5-Sympy.ipynb\nM\tLecture-6A-Fortran-and-C.ipynb\nM\tLecture-6B-HPC.ipynb\nM\tLecture-7-Revision-Control-Software.ipynb\nAlready on 'master'\nYour branch is ahead of 'origin/master' by 5 commits.\n  (use \"git push\" to publish your local commits)\n"
    }
   ],
   "source": [
    "!git checkout master "
   ]
  },
  {
   "cell_type": "code",
   "execution_count": 33,
   "metadata": {
    "collapsed": false
   },
   "outputs": [
    {
     "output_type": "stream",
     "name": "stdout",
     "text": "\nA file with information about the gitdemo repository.\n\nA new line.\n"
    }
   ],
   "source": [
    "!cat README"
   ]
  },
  {
   "cell_type": "code",
   "execution_count": 34,
   "metadata": {
    "collapsed": false
   },
   "outputs": [
    {
     "output_type": "stream",
     "name": "stdout",
     "text": "On branch master\nYour branch is ahead of 'origin/master' by 5 commits.\n  (use \"git push\" to publish your local commits)\n\nChanges not staged for commit:\n  (use \"git add <file>...\" to update what will be committed)\n  (use \"git restore <file>...\" to discard changes in working directory)\n\t\u001b[31mmodified:   Lecture-0-Scientific-Computing-with-Python.ipynb\u001b[m\n\t\u001b[31mmodified:   Lecture-1-Introduction-to-Python-Programming.ipynb\u001b[m\n\t\u001b[31mmodified:   Lecture-3-Scipy.ipynb\u001b[m\n\t\u001b[31mmodified:   Lecture-5-Sympy.ipynb\u001b[m\n\t\u001b[31mmodified:   Lecture-6A-Fortran-and-C.ipynb\u001b[m\n\t\u001b[31mmodified:   Lecture-6B-HPC.ipynb\u001b[m\n\t\u001b[31mmodified:   Lecture-7-Revision-Control-Software.ipynb\u001b[m\n\nUntracked files:\n  (use \"git add <file>...\" to include in what will be committed)\n\t\u001b[31m.ipynb_checkpoints/\u001b[m\n\t\u001b[31m.vscode/\u001b[m\n\t\u001b[31mcy_dcumsum.pyx\u001b[m\n\t\u001b[31mdcumsum.f\u001b[m\n\t\u001b[31mdprod.f\u001b[m\n\t\u001b[31mdprod.pyf\u001b[m\n\t\u001b[31mfunctions.c\u001b[m\n\t\u001b[31mfunctions.o\u001b[m\n\t\u001b[31mfunctions.py\u001b[m\n\t\u001b[31mhello.py\u001b[m\n\t\u001b[31mhellofortran.f\u001b[m\n\t\u001b[31mmpi-matrix-vector.py\u001b[m\n\t\u001b[31mmpi-numpy-array.py\u001b[m\n\t\u001b[31mmpi-psum.py\u001b[m\n\t\u001b[31mmpitest.py\u001b[m\n\t\u001b[31mmymodule.py\u001b[m\n\t\u001b[31mopencl-dense-mv.py\u001b[m\n\t\u001b[31mqutip/\u001b[m\n\t\u001b[31mrandom-matrix.npy\u001b[m\n\t\u001b[31mrandom-vector.npy\u001b[m\n\t\u001b[31mrun_hello_c.py\u001b[m\n\t\u001b[31msetup.py\u001b[m\n\nno changes added to commit (use \"git add\" and/or \"git commit -a\")\n"
    }
   ],
   "source": [
    "!git status"
   ]
  },
  {
   "cell_type": "markdown",
   "metadata": {},
   "source": [
    "## Tagging and branching"
   ],
   "execution_count": null,
   "outputs": []
  },
  {
   "cell_type": "markdown",
   "metadata": {},
   "source": [
    "### Tags"
   ],
   "execution_count": null,
   "outputs": []
  },
  {
   "cell_type": "markdown",
   "metadata": {},
   "source": [
    "Tags are named revisions. They are useful for marking particular revisions for later references. For example, we can tag our code with the tag \"paper-1-final\" when when simulations for \"paper-1\" are finished and the paper submitted. Then we can always retreive the exactly the code used for that paper even if we continue to work on and develop the code for future projects and papers."
   ],
   "execution_count": null,
   "outputs": []
  },
  {
   "cell_type": "code",
   "execution_count": 35,
   "metadata": {
    "collapsed": false,
    "tags": [
     "outputPrepend"
    ]
   },
   "outputs": [
    {
     "output_type": "stream",
     "name": "stdout",
     "text": "ec 9 06:40:09 2013 -0600\n\n    Updated Lecture-4-Matplotlib.ipynb: Syntax, FFMpeg workaround, clarification\n\n\u001b[33mcommit 5e82ad23bcd3bacb3e731c7527a5d0264a41f146\u001b[m\nMerge: 8c046ac 363e92c\nAuthor: Robert Johansson <jrjohansson@gmail.com>\nDate:   Wed Nov 27 14:38:31 2013 -0800\n\n    Merge pull request #11 from anddam/patch-1\n    \n    fixing typo: added missing word\n\n\u001b[33mcommit 363e92ceefcecc601976ddfa7b812c6b473dd483\u001b[m\nAuthor: Andrea D'Amore <anddam@brapi.net>\nDate:   Wed Nov 27 16:16:39 2013 +0100\n\n    fixing typo: added missing word\n\n\u001b[33mcommit 8c046acdc909667488811237fb85d029143e99a1\u001b[m\nAuthor: Robert Johansson <jrjohansson@gmail.com>\nDate:   Tue Nov 19 00:37:58 2013 +0900\n\n    fixed a couple of grammar and spelling errors\n\n\u001b[33mcommit 4bdc21ae7f3ca7a584cc23a3da55f8503d173104\u001b[m\nAuthor: Robert Johansson <jrjohansson@gmail.com>\nDate:   Tue Nov 19 00:18:48 2013 +0900\n\n    fix typo: this example should be a syntax error\n\n\u001b[33mcommit 1b903019834ab47b78e55f86717fcdf57cb6e95b\u001b[m\nMerge: 68fd7b9 bd6d1cf\nAuthor: Robert Johansson <jrjohansson@gmail.com>\nDate:   Mon Nov 18 05:49:01 2013 -0800\n\n    Merge pull request #9 from janpipek/master\n    \n    Logarithmic scale + histograms to matplotlib text\n\n\u001b[33mcommit bd6d1cf82bde9f31905ee58d0cd2e1a63a6dd10f\u001b[m\nAuthor: Jan Pipek <pipek@ipp.cas.cz>\nDate:   Mon Nov 18 11:59:48 2013 +0100\n\n    Matplotlib: histograms\n\n\u001b[33mcommit 3285e81e02a648ac9c03e3778a9463821d68bdc7\u001b[m\nAuthor: Jan Pipek <pipek@ipp.cas.cz>\nDate:   Mon Nov 18 11:57:08 2013 +0100\n\n    Matplotlib: Logarithmic scale\n\n\u001b[33mcommit 68fd7b99e1cf79a550b2b335d20bb994070a3768\u001b[m\nAuthor: Robert Johansson <jrjohansson@gmail.com>\nDate:   Mon Nov 11 15:12:40 2013 +0900\n\n    ran notebook with python3. added version information table.\n\n\u001b[33mcommit 4c5aea0c465b5c412cb9cc4a15df327ca0e29864\u001b[m\nAuthor: Robert Johansson <jrjohansson@gmail.com>\nDate:   Mon Nov 11 15:08:41 2013 +0900\n\n    fixed some python3 compability issues\n\n\u001b[33mcommit 0c4b617ccd809dec852678c3f3793d67c32d2357\u001b[m\nAuthor: Robert Johansson <jrjohansson@gmail.com>\nDate:   Mon Sep 30 15:57:28 2013 +0900\n\n    added note about %config InlineBackend\n\n\u001b[33mcommit fcb3044f9a3b95b74d0283cf7bf2d9f56c3fd7b2\u001b[m\nAuthor: Robert Johansson <jrjohansson@gmail.com>\nDate:   Mon Sep 30 15:40:44 2013 +0900\n\n    changes make_axes (wrong) to fig.add_axes\n\n\u001b[33mcommit 52f5b2aec24a077c21cb417842155ff7a798df94\u001b[m\nAuthor: Robert Johansson <jrjohansson@gmail.com>\nDate:   Sat Sep 7 11:05:36 2013 +0900\n\n    rephrase note on replicability and reproducibility\n\n\u001b[33mcommit 0cd9434239db08d2d73bbe2ef440ff2e30ff45c0\u001b[m\nMerge: a35e372 6f96618\nAuthor: Robert Johansson <jrjohansson@gmail.com>\nDate:   Sat Aug 31 18:39:37 2013 -0700\n\n    Merge pull request #8 from gfrubi/master\n    \n    more typos corrected in Lecture 3\n\n\u001b[33mcommit 6f966189d0b6992640c2d5b18a9d37f08b90e70b\u001b[m\nAuthor: Guillermo <gfrubi@users.noreply.github.com>\nDate:   Thu Aug 29 21:31:49 2013 -0400\n\n    typos\n\n\u001b[33mcommit 116b9c42cea07add280fa347826277e090398e8a\u001b[m\nAuthor: Guillermo <gfrubi@users.noreply.github.com>\nDate:   Thu Aug 29 15:52:15 2013 -0400\n\n    typos\n\n\u001b[33mcommit 8d73e06731ac0c23944b83f07bc81f4cc22535a7\u001b[m\nAuthor: Guillermo <gfrubi@users.noreply.github.com>\nDate:   Thu Aug 29 15:42:28 2013 -0400\n\n    corrected \"zeres\"\n\n\u001b[33mcommit f583f7ffe3ef79328806bd55efc013c79754781b\u001b[m\nAuthor: Guillermo <gfrubi@users.noreply.github.com>\nDate:   Thu Aug 29 15:38:03 2013 -0400\n\n    typos\n\n\u001b[33mcommit a35e372793767201391c5159d78de5760e06abfd\u001b[m\nMerge: 3dc5ac4 25c7383\nAuthor: Robert Johansson <jrjohansson@gmail.com>\nDate:   Sat Aug 17 00:05:10 2013 +0900\n\n    Manually merged PR #7\n\n\u001b[33mcommit 25c7383048d60d703858a960c4eea79ae8170f39\u001b[m\nAuthor: Guillermo <gfrubi@users.noreply.github.com>\nDate:   Wed Aug 14 19:09:41 2013 -0400\n\n    typo\n\n\u001b[33mcommit 4a6faf53aaaf4b71aa25ba20ee7c2d2441e1d840\u001b[m\nAuthor: Guillermo <gfrubi@users.noreply.github.com>\n\n\n    \"are\" should be \"is\"\n\n\u001b[33mcommit 69cc3169db832f5b57c6cc13959677630400e637\u001b[m\nAuthor: Guillermo <gfrubi@users.noreply.github.com>\nDate:   Wed Aug 14 11:19:55 2013 -0400\n\n    typo\n\n\u001b[33mcommit 844d495d3f68e3577527be727e026f5bd671b8ee\u001b[m\nAuthor: Guillermo <gfrubi@users.noreply.github.com>\nDate:   Tue Aug 13 14:50:54 2013 -0400\n\n    small typos\n\n\u001b[33mcommit 4d45ae28840a5ff7f45649c11cbff76329e977ea\u001b[m\nAuthor: Guillermo <gfrubi@users.noreply.github.com>\nDate:   Mon Aug 12 14:42:29 2013 -0400\n\n    removed \"the\" from \"Using THE `numpy.savetxt`...\"\n\n\u001b[33mcommit d7b5ee5125322757c94451ddb4095e8eedba7824\u001b[m\nAuthor: Guillermo <gfrubi@users.noreply.github.com>\nDate:   Mon Aug 12 14:37:53 2013 -0400\n\n    typo: \"tempature\" to \"temperature\"\n\n\u001b[33mcommit ba911c59b9c1308060e78072b1e5d8409718d23b\u001b[m\nAuthor: Guillermo <gfrubi@gmail.com>\nDate:   Sun Aug 11 00:46:06 2013 -0400\n\n    typo\n\n\u001b[33mcommit 90f9404d1b02fd1d8e6f7d6a2de4d108d4f4d5a7\u001b[m\nAuthor: Guillermo <gfrubi@gmail.com>\nDate:   Sun Aug 11 00:34:09 2013 -0400\n\n    small typo\n\n\u001b[33mcommit 3dc5ac4fb0fc36db0cd4645d219202796a5656f3\u001b[m\nMerge: 059c1eb 6920d5b\nAuthor: Robert Johansson <jrjohansson@gmail.com>\nDate:   Fri Aug 9 18:26:37 2013 -0700\n\n    Merge pull request #6 from gfrubi/master\n    \n    more small corrections to the text\n\n\u001b[33mcommit 6920d5b38cd34703146523e7452530b57429d5a1\u001b[m\nAuthor: Guillermo <gfrubi@gmail.com>\nDate:   Fri Aug 9 18:39:12 2013 -0400\n\n    typos with \"expection\"\n\n\u001b[33mcommit ea1aba2d8beb765a8dd358d75b5ce3024b2cf67a\u001b[m\nAuthor: Guillermo <gfrubi@gmail.com>\nDate:   Fri Aug 9 18:32:36 2013 -0400\n\n    typo\n\n\u001b[33mcommit 9fc54a9eeb3a67254196c1f4e9c4619976195a5c\u001b[m\nAuthor: Guillermo <gfrubi@gmail.com>\nDate:   Fri Aug 9 18:28:25 2013 -0400\n\n    small typo\n\n\u001b[33mcommit 8f259bd1b8819ca84cbf42baa3d09bc33c990805\u001b[m\nAuthor: Guillermo <gfrubi@gmail.com>\n\n\n    small typo\n\n\u001b[33mcommit f1b8788ff070e1198f7cb8c3b5a32d262c0f6da7\u001b[m\nAuthor: Guillermo <gfrubi@gmail.com>\nDate:   Fri Aug 9 17:59:39 2013 -0400\n\n    removed \"the\" from \"of THE that particular class...\"\n\n\u001b[33mcommit 8dfd5898ded19907033afe414c6707f44e4b2779\u001b[m\nAuthor: Guillermo <gfrubi@gmail.com>\nDate:   Fri Aug 9 17:43:21 2013 -0400\n\n    Fixed plural to singular\n\n\u001b[33mcommit 0bb9f8f2222f2b54e0955874f3f8eaccc5f45da2\u001b[m\nAuthor: Guillermo <gfrubi@gmail.com>\nDate:   Fri Aug 9 16:33:41 2013 -0400\n\n    \"lists\" replaced by \"dictionaries\", since this is what the text is reffering to\n\n\u001b[33mcommit 9ffd7f6841b225617fdd2da6aa788c9252c95949\u001b[m\nAuthor: Guillermo <gfrubi@gmail.com>\nDate:   Fri Aug 9 16:18:37 2013 -0400\n\n    Bad sentence corrected\n\n\u001b[33mcommit 83869535a6f22fe2afa4562ed48d03002cf8c389\u001b[m\nAuthor: Guillermo <gfrubi@gmail.com>\nDate:   Fri Aug 9 15:26:11 2013 -0400\n\n    small typo: \"use\" removed from \"We can USE extract a part...\"\n\n\u001b[33mcommit 29183d0d0fe6db44bc903f9c83d7a4921f7b0eb2\u001b[m\nAuthor: Guillermo <gfrubi@gmail.com>\nDate:   Thu Aug 8 12:09:56 2013 -0400\n\n    added \"that\" to \"...definitions THAT can be used...\"\n\n\u001b[33mcommit e968df274546b2633ad4d446e0639048f918ec3b\u001b[m\nAuthor: Guillermo <gfrubi@gmail.com>\nDate:   Thu Aug 8 11:54:42 2013 -0400\n\n    small typo: \"varable\" to \"variable\"\n\n\u001b[33mcommit 059c1eb1bf62f4804388abfe310053bd99f9095d\u001b[m\nAuthor: Robert Johansson <jrjohansson@gmail.com>\nDate:   Thu Aug 8 17:00:44 2013 +0900\n\n    use header cells instead of markdown headings\n\n\u001b[33mcommit 23fc637a378d5b237e5a6b4c1d8ff9e70e8c73fd\u001b[m\nAuthor: Robert Johansson <jrjohansson@gmail.com>\nDate:   Thu Aug 8 16:44:01 2013 +0900\n\n    added versions table\n\n\u001b[33mcommit ce8c6ad1d120e7990580464620d7b92d14d827c0\u001b[m\nAuthor: Robert Johansson <jrjohansson@gmail.com>\nDate:   Thu Aug 8 16:42:50 2013 +0900\n\n    added versions table\n\n\u001b[33mcommit ae2b44e25a8525a1ab2cee396e53607692c214da\u001b[m\nAuthor: Robert Johansson <jrjohansson@gmail.com>\nDate:   Thu Aug 8 12:38:46 2013 +0900\n\n    added ax=ax to fig.colorbar call, which is useful when packing figures with colorbars into subplots\n\n\u001b[33mcommit ae364b6992ba1754859e80ccd056fe09a8b60ff4\u001b[m\nAuthor: Robert Johansson <jrjohansson@gmail.com>\nDate:   Thu Aug 8 12:29:24 2013 +0900\n\n    use header cells instead of markdown headers. added note about matplotlib magic, more consistent use of plt namespace in OO API examples\n\n\u001b[33mcommit bc93fcbc3402430e5311604cebbe6cef71cfd091\u001b[m\nAuthor: Robert Johansson <jrjohansson@gmail.com>\nDate:   Thu Aug 8 12:05:45 2013 +0900\n\n    use header cells instead of markdown titles for better nbconvert compatibility\n\n\u001b[33mcommit 44d17a2a7498fba14482d5b3aeb43eddecb58611\u001b[m\nAuthor: Robert Johansson <jrjohansson@gmail.com>\nDate:   Thu Aug 8 11:52:38 2013 +0900\n\n    Added section about version_information\n\n\u001b[33mcommit c93a27a654886b7534f7707c5dc53c2b88e90fe2\u001b[m\nAuthor: Robert Johansson <jrjohansson@gmail.com>\nDate:   Thu Aug 8 11:02:11 2013 +0900\n\n    updated link to IPython notebook\n\n\u001b[33mcommit c0e73c9ef461e1313d25598772a1324c1256ea47\u001b[m\nMerge: d8b027f f4171b0\nAuthor: Robert Johansson <jrjohansson@gmail.com>\nDate:   Wed Aug 7 18:55:06 2013 -0700\n\n    Merge pull request #4 from gfrubi/master\n    \n    fixed link to Ipython notebook in lecture 0\n\n\u001b[33mcommit f4171b06aa029d065d91735e2871fde49982778a\u001b[m\nAuthor: Guillermo <gfrubi@gmail.com>\nDate:   Wed Aug 7 20:00:36 2013 -0400\n\n    fixed typo: \"This is pattern...\" to \"This pattern...\"\n\n\u001b[33mcommit fbb3c0d87f95d99ae0b45f87706a78fe33af0e0d\u001b[m\nAuthor: Guillermo <gfrubi@gmail.com>\nDate:   Wed Aug 7 19:53:14 2013 -0400\n\n    corrected typo (double \"for\")\n\n\u001b[33mcommit 9ab7e545f74b74dbd6b2aee2a420558839097879\u001b[m\nAuthor: Guillermo <gfrubi@gmail.com>\nDate:   Wed Aug 7 19:13:01 2013 -0400\n\n    fixed link to Ipython notebook\n\n\u001b[33mcommit d8b027f435f050172f4b8a307f38c573abb19937\u001b[m\nAuthor: Robert Johansson <jrjohansson@gmail.com>\nDate:   Sat Jun 15 09:24:09 2013 +0900\n\n    reran the notebook after cython code updated by jfeist. Added note about using IPythons %%cython magic.\n\n\u001b[33mcommit 11c4be54a8004a8ff50d720955fb02a35e8ecbc7\u001b[m\nMerge: 09ce4af 3ad9c75\nAuthor: Robert Johansson <jrjohansson@gmail.com>\nDate:   Fri Jun 14 08:49:48 2013 -0700\n\n    Merge pull request #3 from jfeist/master\n    \n    some small fixes\n\n\u001b[33mcommit 3ad9c75d0873a2443ad257cb954d62b0a79165a8\u001b[m\nAuthor: Johannes Feist <johannes.feist@gmail.com>\nDate:   Fri Jun 14 17:09:43 2013 +0200\n\n    in the cython example of lecture 6A: added a cdef for int i as well, giving speedup of more than 100x\n\n\u001b[33mcommit 2e40ce5c48a0884ae6a4dad8b7707fc1925d0999\u001b[m\nAuthor: Johannes Feist <johannes.feist@gmail.com>\nDate:   Fri Jun 14 16:35:34 2013 +0200\n\n    fixed some typos in lecture 5\n\n\u001b[33mcommit 3f5caf8410b4d649fcd8c5c3b91fcbd7871f83ce\u001b[m\nAuthor: Johannes Feist <johannes.feist@gmail.com>\nDate:   Fri Jun 14 16:21:38 2013 +0200\n\n    fixed two typos in lecture 1\n\n\u001b[33mcommit 09ce4af2c2822678f38257852f5abbb1b9665417\u001b[m\nAuthor: Robert Johansson <jrjohansson@gmail.com>\nDate:   Wed Jun 12 23:55:00 2013 +0900\n\n    added example of how to efficiently evaluate expressions using lambdify\n\n\u001b[33mcommit b20823e1f1fa5fa19c897830d6a81d02b381bdb2\u001b[m\nAuthor: Robert Johansson <jrjohansson@gmail.com>\nDate:   Wed Jun 12 00:44:24 2013 +0900\n\n    fixed typo in explanation of add_axes arguments (thanks to Derek Bridges)\n\n\u001b[33mcommit 3fdedfabebbf870cc4110e1df85ac81f20a74b13\u001b[m\nAuthor: Robert Johansson <jrjohansson@gmail.com>\nDate:   Fri May 10 21:06:01 2013 +0900\n\n    fixed problem with animation figure being showed. added arguments to animation save to make it work on mac. some spell fixes.\n\n\u001b[33mcommit 46caf73baf20920bdc1a4c10965b15a7caaa6850\u001b[m\nAuthor: Robert Johansson <jrjohansson@gmail.com>\nDate:   Wed May 1 16:15:43 2013 +0900\n\n    fixed a python 3 syntax error\n\n\u001b[33mcommit 7703269d3f7e11d0df72701f7d61ba4d9e6695bc\u001b[m\nAuthor: Robert Johansson <jrjohansson@gmail.com>\nDate:   Mon Apr 29 16:37:36 2013 +0900\n\n    python3 fixes\n\n\u001b[33mcommit c0844f6caa98b7ea0695a86add9a2e5be7538406\u001b[m\nAuthor: Robert Johansson <jrjohansson@gmail.com>\nDate:   Sun Apr 14 11:40:36 2013 +0900\n\n    spelling and grammar fixes\n\n\u001b[33mcommit 99fb70c8f0c55a6605397e68af00bd8a5721874a\u001b[m\nAuthor: Robert Johansson <jrjohansson@gmail.com>\nDate:   Tue Feb 19 11:54:47 2013 +0900\n\n    spelling, grammar and terminology fixes\n\n\u001b[33mcommit 5ba305b265636ddc06a37461811ff550736cf06d\u001b[m\nAuthor: Robert Johansson <jrjohansson@gmail.com>\nDate:   Tue Feb 19 11:33:13 2013 +0900\n\n    added some examples on how to use IPython.parallel\n\n\u001b[33mcommit b5f8c55bd27a87974f9be97b819796032028a04b\u001b[m\nAuthor: Robert Johansson <jrjohansson@gmail.com>\nDate:   Mon Feb 18 11:32:07 2013 +0900\n\n    ran a spell checker on the notebook...\n\n\u001b[33mcommit 403fdc71e7389f42b54c2c67524441c2566b1e18\u001b[m\nAuthor: Robert Johansson <jrjohansson@gmail.com>\nDate:   Mon Feb 18 11:19:53 2013 +0900\n\n    bugfix in the opencl example\n\n\u001b[33mcommit 72e8a1a7ec81c5e36d18aaca540c394a4f1dba6c\u001b[m\nAuthor: Robert Johansson <jrjohansson@gmail.com>\nDate:   Mon Feb 18 10:55:43 2013 +0900\n\n    Fixes #2: correctly compare mpi sum and numpy sum, and make sure that all processes get the same random data to sum up..\n\n\u001b[33mcommit 196b77fd7955ffaf22e5a16f14fa5d6e16a8d9c9\u001b[m\nAuthor: Robert Johansson <jrjohansson@gmail.com>\nDate:   Thu Feb 7 10:25:00 2013 +0900\n\n    removed excessive output from git clone in notebook\n\n\u001b[33mcommit 75033f9e6ac366b4fd5546ab683fbbf65331d9af\u001b[m\nAuthor: Robert Johansson <jrjohansson@gmail.com>\nDate:   Thu Feb 7 10:16:29 2013 +0900\n\n    Added CC-BY as license for the notebooks. Closes #1.\n\n\u001b[33mcommit 79bb8f76b154dd9b30ad58ff1147db185eb875fd\u001b[m\nAuthor: Robert Johansson <jrjohansson@gmail.com>\nDate:   Wed Jan 23 17:16:49 2013 +0900\n\n    added links to github page\n\n\u001b[33mcommit 297d1fb26f207502105c9cf2c9554ad31c2ce299\u001b[m\nAuthor: Robert Johansson <jrjohansson@gmail.com>\nDate:   Fri Dec 21 11:07:36 2012 +0900\n\n    remove archive files\n\n\u001b[33mcommit 47ba13714881e644b7570e936f40bfc583a4dcda\u001b[m\nAuthor: Robert Johansson <jrjohansson@gmail.com>\nDate:   Fri Dec 14 16:51:53 2012 +0100\n\n    remove unnecessary directory\n\n\u001b[33mcommit 6e5903a48807a17d78ac243f94e38b3ca9f46066\u001b[m\nMerge: 4c1c5e8 1f15644\nAuthor: Robert Johansson <jrjohansson@gmail.com>\nDate:   Fri Dec 14 13:56:45 2012 +0100\n\n    Merge branch 'master' of github.com:jrjohansson/scientific-python-lectures\n\n\u001b[33mcommit 4c1c5e8ea22a900be1106a0049fa0a174adfe3ff\u001b[m\nAuthor: Robert Johansson <jrjohansson@gmail.com>\nDate:   Fri Dec 14 13:56:22 2012 +0100\n\n    updated mac installation instructions\n\n\u001b[33mcommit 1f15644e8bdf7590f32458f173e65b884c8ab5cb\u001b[m\nAuthor: Robert Johansson <jrjohansson@gmail.com>\nDate:   Tue Dec 11 21:46:00 2012 +0900\n\n    added urls to new notebooks\n\n\u001b[33mcommit a4f3f148d8e537c7f0716358edee194a88fd1665\u001b[m\nAuthor: Robert Johansson <jrjohansson@gmail.com>\nDate:   Mon Dec 10 20:42:04 2012 +0900\n\n    updaged archives\n\n\u001b[33mcommit 24c174d00a5bdaf14a9d6a7bcb2b7c955549bbaf\u001b[m\nAuthor: Robert Johansson <jrjohansson@gmail.com>\nDate:   Mon Dec 10 11:11:13 2012 +0100\n\n    added HPC notebook\n\n\u001b[33mcommit 8bbf262a9bef6c4cc5e002df6e103164a7078614\u001b[m\nAuthor: Robert Johansson <jrjohansson@gmail.com>\nDate:   Mon Dec 10 07:40:11 2012 +0100\n\n    updated RCS noteboook\n\n\u001b[33mcommit d0d6a70a9b717549306c6d595b4815c527b9a8ec\u001b[m\nAuthor: Robert Johansson <jrjohansson@gmail.com>\nDate:   Mon Dec 10 07:09:20 2012 +0100\n\n    added lecture notebook about RCS\n\n\u001b[33mcommit 2495af428aaefea851dea2fd4b8e8bc77119522c\u001b[m\nAuthor: Robert Johansson <jrjohansson@gmail.com>\nDate:   Sun Dec 9 20:26:11 2012 +0100\n\n    added stuff about ctypes and cython\n\n\u001b[33mcommit da6f436f41302520c2426abf0baaf8f19224a280\u001b[m\nAuthor: Robert Johansson <jrjohansson@gmail.com>\nDate:   Sun Dec 9 09:34:58 2012 +0100\n\n    Added a README file\n\n\u001b[33mcommit 19f776e81fe1efd214dfd9a28f4b208f0046cd72\u001b[m\nMerge: 9db5eaf b12a6e0\nAuthor: Robert Johansson <jrjohansson@gmail.com>\nDate:   Fri Dec 7 17:20:47 2012 +0900\n\n    Merge branch 'master' of github.com:jrjohansson/scientific-python-lectures\n\n\u001b[33mcommit b12a6e0f2d0bffef492e2355dd6d7d6a0eef45b3\u001b[m\nAuthor: Robert Johansson <jrjohansson@gmail.com>\nDate:   Fri Dec 7 08:30:21 2012 +0100\n\n    minor updates\n\n\u001b[33mcommit 9db5eaf720c4fe57b1b7135582bc73cdcae28269\u001b[m\nAuthor: Robert Johansson <jrjohansson@gmail.com>\nDate:   Fri Dec 7 15:48:19 2012 +0900\n\n    regenerated movie\n\n\u001b[33mcommit 13e17183c56da03c5f26acc9f8028c17f63d3b4c\u001b[m\nMerge: 2e5cf5f e55b247\nAuthor: Robert Johansson <jrjohansson@gmail.com>\nDate:   Fri Dec 7 07:39:03 2012 +0100\n\n    Merge branch 'master' of github.com:jrjohansson/scientific-python-lectures\n\n\u001b[33mcommit 2e5cf5fadfb68989b4846ff77d6a855d7c66c2f2\u001b[m\nAuthor: Robert Johansson <jrjohansson@gmail.com>\nDate:   Fri Dec 7 07:38:06 2012 +0100\n\n    minor additions and typo fixes\n\n\u001b[33mcommit e55b247c8c3ac6dd1401987957d4c024a62609cd\u001b[m\nAuthor: Robert Johansson <jrjohansson@gmail.com>\nDate:   Thu Dec 6 22:19:02 2012 +0900\n\n    added installation instructions for using Fink instead of macports\n\n\u001b[33mcommit 402bb65f7e82c280b0f19ef1ad09dfde0707b710\u001b[m\nAuthor: Robert Johansson <jrjohansson@gmail.com>\nDate:   Thu Dec 6 09:03:25 2012 +0100\n\n    minor updates and typo fixes\n\n\u001b[33mcommit bc5a3fd4dbe6fc97fed0bb2297f62c6da8ee83d8\u001b[m\nAuthor: Robert Johansson <jrjohansson@gmail.com>\nDate:   Thu Dec 6 08:12:15 2012 +0100\n\n    minor updates, typo fixes\n\n\u001b[33mcommit 35dc225eb08a09522bef450289470f449d4de0aa\u001b[m\nAuthor: Robert Johansson <jrjohansson@gmail.com>\nDate:   Thu Dec 6 07:54:45 2012 +0100\n\n    fixed typo\n\n\u001b[33mcommit 35c057e0306cea1b525b4bce70d9bb5228b793fb\u001b[m\nAuthor: Robert Johansson <jrjohansson@gmail.com>\nDate:   Wed Dec 5 07:04:47 2012 +0100\n\n    updated figs\n\n\u001b[33mcommit af2358522536100663bbb80caf7ce249a4ee3fec\u001b[m\nAuthor: Robert Johansson <jrjohansson@gmail.com>\nDate:   Wed Dec 5 06:59:10 2012 +0100\n\n    added new subfig\n\n\u001b[33mcommit fd7e0699c3fafa81699af324273a542a0f819bf9\u001b[m\nAuthor: Robert Johansson <jrjohansson@gmail.com>\nDate:   Tue Dec 4 18:14:28 2012 +0100\n\n    added archives\n\n\u001b[33mcommit 3cc4be6135f8a4f4dd0d69b4479094bb2a963327\u001b[m\nAuthor: Robert Johansson <jrjohansson@gmail.com>\nDate:   Tue Dec 4 18:11:04 2012 +0100\n\n    fixed typo\n\n\u001b[33mcommit 380a6744a0e0fcaab74694fc0f9643d1e6656ed1\u001b[m\nAuthor: Robert Johansson <jrjohansson@gmail.com>\nDate:   Tue Dec 4 17:56:30 2012 +0100\n\n    minor updates\n\n\u001b[33mcommit 3ea43c1ad956ecac84d5009333ef452b69a182b3\u001b[m\nAuthor: Robert Johansson <jrjohansson@gmail.com>\nDate:   Tue Dec 4 17:32:37 2012 +0100\n\n    added start on fortran-c-python lecture\n\n\u001b[33mcommit f443fbaa480c01673bdacba4f10257ef7f2aa983\u001b[m\nAuthor: Robert Johansson <jrjohansson@gmail.com>\nDate:   Tue Dec 4 07:48:23 2012 +0100\n\n    minor additions, fixed typos\n\n\u001b[33mcommit d3d6c3cffc3fd6794c9a5e410c2db7e3a628ea1c\u001b[m\nAuthor: Robert Johansson <jrjohansson@gmail.com>\nDate:   Mon Dec 3 21:39:31 2012 +0100\n\n    fixed typos\n\n\u001b[33mcommit ee9af6faea7f765354744edbfeb52f6b7f087610\u001b[m\nAuthor: Robert Johansson <jrjohansson@gmail.com>\nDate:   Fri Nov 30 12:56:33 2012 +0900\n\n    added PNGs or SVGs\n\n\u001b[33mcommit 29656641b013a1bf66c47d457b6f224d7a6c3e97\u001b[m\nAuthor: Robert Johansson <jrjohansson@gmail.com>\nDate:   Fri Nov 30 12:55:58 2012 +0900\n\n    use urls to github instead of local files so that nbviewer works\n\n\u001b[33mcommit a73fd26e3fbff6a2a9239d66d267cf082401df14\u001b[m\nAuthor: Robert Johansson <jrjohansson@gmail.com>\nDate:   Fri Nov 30 12:26:39 2012 +0900\n\n    added urls to notebooks via nbviewer in readme file\n\n\u001b[33mcommit 86d4e9b48ba0e0eae7d2476f3f1fdcbc94e31c4c\u001b[m\nAuthor: Robert Johansson <jrjohansson@gmail.com>\nDate:   Fri Nov 30 12:16:28 2012 +0900\n\n    added introduction lecture\n\n\u001b[33mcommit a419680209976d1c20ee6062e9613961c207ef2e\u001b[m\nAuthor: Robert Johansson <jrjohansson@gmail.com>\nDate:   Fri Nov 30 00:38:58 2012 +0900\n\n    rename\n\n\u001b[33mcommit 88f1c03d9b1ae122fc90e1f251abc1e837eb13e7\u001b[m\nAuthor: Robert Johansson <jrjohansson@gmail.com>\nDate:   Thu Nov 29 20:50:00 2012 +0900\n\n    added missing extra files\n\n\u001b[33mcommit 7ec2ad522915406d4704daaaa39cea95febd1228\u001b[m\nAuthor: Robert Johansson <jrjohansson@gmail.com>\nDate:   Thu Nov 29 20:46:10 2012 +0900\n\n    imported initial version of scientific computing lectures\n\n\u001b[33mcommit 200b15424c4058d44d251408bf890871a7fe0c93\u001b[m\nAuthor: Robert Johansson <jrjohansson@gmail.com>\nDate:   Thu Nov 29 03:43:35 2012 -0800\n\n    Initial commit\n"
    }
   ],
   "source": [
    "!git log"
   ]
  },
  {
   "cell_type": "code",
   "execution_count": 36,
   "metadata": {
    "collapsed": false
   },
   "outputs": [],
   "source": [
    "!git tag -a demotag1 -m \"Code used for this and that purpuse\" "
   ]
  },
  {
   "cell_type": "code",
   "execution_count": 37,
   "metadata": {
    "collapsed": false
   },
   "outputs": [
    {
     "output_type": "stream",
     "name": "stdout",
     "text": "demotag1\n"
    }
   ],
   "source": [
    "!git tag -l "
   ]
  },
  {
   "cell_type": "code",
   "execution_count": 38,
   "metadata": {
    "collapsed": false
   },
   "outputs": [
    {
     "output_type": "stream",
     "name": "stdout",
     "text": "\u001b[33mtag demotag1\u001b[m\nTagger: papagiannakis <papagian@ics.forth.gr>\nDate:   Sun Apr 12 19:58:31 2020 +0300\n\nCode used for this and that purpuse\n\n\u001b[33mcommit e9768386d9d37a489afe0a324a51282d063ae46b\u001b[m\u001b[33m (\u001b[m\u001b[1;36mHEAD -> \u001b[m\u001b[1;32mmaster\u001b[m\u001b[33m, \u001b[m\u001b[1;33mtag: demotag1\u001b[m\u001b[33m)\u001b[m\nAuthor: papagiannakis <papagian@ics.forth.gr>\nDate:   Sun Apr 12 19:58:29 2020 +0300\n\n    remove file tmpfile\n\n\u001b[1mdiff --git a/tmpfile b/tmpfile\u001b[m\n\u001b[1mdeleted file mode 100644\u001b[m\n\u001b[1mindex 76810ac..0000000\u001b[m\n\u001b[1m--- a/tmpfile\u001b[m\n\u001b[1m+++ /dev/null\u001b[m\n\u001b[36m@@ -1,2 +0,0 @@\u001b[m\n\u001b[31m-\u001b[m\n\u001b[31m-A short-lived file.\u001b[m\n"
    }
   ],
   "source": [
    "!git show demotag1"
   ]
  },
  {
   "cell_type": "markdown",
   "metadata": {},
   "source": [
    "To retreive the code in the state corresponding to a particular tag, we can use the `git checkout tagname` command:\n",
    "\n",
    "    $ git checkout demotag1"
   ],
   "execution_count": null,
   "outputs": []
  },
  {
   "cell_type": "markdown",
   "metadata": {},
   "source": [
    "## Branches"
   ],
   "execution_count": null,
   "outputs": []
  },
  {
   "cell_type": "markdown",
   "metadata": {},
   "source": [
    "With branches we can create diverging code bases in the same repository. They are for example useful for experimental development that requires a lot of code changes that could break the functionality in the master branch. Once the development of a branch has reached a stable state it can always be merged back into the trunk. Branching-development-merging is a good development strategy when serveral people are involved in working on the same code base. But even in single author repositories it can often be useful to always keep the master branch in a working state, and always branch/fork before implementing a new feature, and later merge it back into the main trunk.\n",
    "\n",
    "In GIT, we can create a new branch like this:"
   ],
   "execution_count": null,
   "outputs": []
  },
  {
   "cell_type": "code",
   "execution_count": 39,
   "metadata": {
    "collapsed": false
   },
   "outputs": [],
   "source": [
    "!git branch expr1 "
   ]
  },
  {
   "cell_type": "markdown",
   "metadata": {},
   "source": [
    "We can list the existing branches like this:"
   ],
   "execution_count": null,
   "outputs": []
  },
  {
   "cell_type": "code",
   "execution_count": 40,
   "metadata": {
    "collapsed": false
   },
   "outputs": [
    {
     "output_type": "stream",
     "name": "stdout",
     "text": "expr1\u001b[m\n* \u001b[32mmaster\u001b[m\n"
    }
   ],
   "source": [
    "!git branch"
   ]
  },
  {
   "cell_type": "markdown",
   "metadata": {},
   "source": [
    "And we can switch between branches using `checkout`:"
   ],
   "execution_count": null,
   "outputs": []
  },
  {
   "cell_type": "code",
   "execution_count": 41,
   "metadata": {
    "collapsed": false
   },
   "outputs": [
    {
     "output_type": "stream",
     "name": "stdout",
     "text": "M\tLecture-0-Scientific-Computing-with-Python.ipynb\nM\tLecture-1-Introduction-to-Python-Programming.ipynb\nM\tLecture-3-Scipy.ipynb\nM\tLecture-5-Sympy.ipynb\nM\tLecture-6A-Fortran-and-C.ipynb\nM\tLecture-6B-HPC.ipynb\nM\tLecture-7-Revision-Control-Software.ipynb\nSwitched to branch 'expr1'\n"
    }
   ],
   "source": [
    "!git checkout expr1"
   ]
  },
  {
   "cell_type": "markdown",
   "metadata": {},
   "source": [
    "Make a change in the new branch."
   ],
   "execution_count": null,
   "outputs": []
  },
  {
   "cell_type": "code",
   "execution_count": 42,
   "metadata": {
    "collapsed": false
   },
   "outputs": [
    {
     "output_type": "stream",
     "name": "stdout",
     "text": "Overwriting README\n"
    }
   ],
   "source": [
    "%%file README\n",
    "\n",
    "A file with information about the gitdemo repository.\n",
    "\n",
    "README files usually contains installation instructions, and information about how to get started using the software (for example).\n",
    "\n",
    "Experimental addition."
   ]
  },
  {
   "cell_type": "code",
   "execution_count": 43,
   "metadata": {
    "collapsed": false
   },
   "outputs": [
    {
     "output_type": "stream",
     "name": "stdout",
     "text": "[expr1 70edd2e] added a line in expr1 branch\n 1 file changed, 3 insertions(+), 1 deletion(-)\n"
    }
   ],
   "source": [
    "!git commit -m \"added a line in expr1 branch\" README"
   ]
  },
  {
   "cell_type": "code",
   "execution_count": 44,
   "metadata": {
    "collapsed": false
   },
   "outputs": [
    {
     "output_type": "stream",
     "name": "stdout",
     "text": "* \u001b[32mexpr1\u001b[m\n  master\u001b[m\n"
    }
   ],
   "source": [
    "!git branch"
   ]
  },
  {
   "cell_type": "code",
   "execution_count": 45,
   "metadata": {
    "collapsed": false
   },
   "outputs": [
    {
     "output_type": "stream",
     "name": "stdout",
     "text": "M\tLecture-0-Scientific-Computing-with-Python.ipynb\nM\tLecture-1-Introduction-to-Python-Programming.ipynb\nM\tLecture-3-Scipy.ipynb\nM\tLecture-5-Sympy.ipynb\nM\tLecture-6A-Fortran-and-C.ipynb\nM\tLecture-6B-HPC.ipynb\nM\tLecture-7-Revision-Control-Software.ipynb\nSwitched to branch 'master'\nYour branch is ahead of 'origin/master' by 5 commits.\n  (use \"git push\" to publish your local commits)\n"
    }
   ],
   "source": [
    "!git checkout master"
   ]
  },
  {
   "cell_type": "code",
   "execution_count": 46,
   "metadata": {
    "collapsed": false
   },
   "outputs": [
    {
     "output_type": "stream",
     "name": "stdout",
     "text": "expr1\u001b[m\n* \u001b[32mmaster\u001b[m\n"
    }
   ],
   "source": [
    "!git branch"
   ]
  },
  {
   "cell_type": "markdown",
   "metadata": {},
   "source": [
    "We can merge an existing branch and all its changesets into another branch (for example the master branch) like this:\n",
    "\n",
    "First change to the target branch:"
   ],
   "execution_count": null,
   "outputs": []
  },
  {
   "cell_type": "code",
   "execution_count": 47,
   "metadata": {
    "collapsed": false
   },
   "outputs": [
    {
     "output_type": "stream",
     "name": "stdout",
     "text": "M\tLecture-0-Scientific-Computing-with-Python.ipynb\nM\tLecture-1-Introduction-to-Python-Programming.ipynb\nM\tLecture-3-Scipy.ipynb\nM\tLecture-5-Sympy.ipynb\nM\tLecture-6A-Fortran-and-C.ipynb\nM\tLecture-6B-HPC.ipynb\nM\tLecture-7-Revision-Control-Software.ipynb\nAlready on 'master'\nYour branch is ahead of 'origin/master' by 5 commits.\n  (use \"git push\" to publish your local commits)\n"
    }
   ],
   "source": [
    "!git checkout master"
   ]
  },
  {
   "cell_type": "code",
   "execution_count": 48,
   "metadata": {
    "collapsed": false
   },
   "outputs": [
    {
     "output_type": "stream",
     "name": "stdout",
     "text": "Updating e976838..70edd2e\nFast-forward\n README | 4 \u001b[32m+++\u001b[m\u001b[31m-\u001b[m\n 1 file changed, 3 insertions(+), 1 deletion(-)\n"
    }
   ],
   "source": [
    "!git merge expr1"
   ]
  },
  {
   "cell_type": "code",
   "execution_count": 49,
   "metadata": {
    "collapsed": false
   },
   "outputs": [
    {
     "output_type": "stream",
     "name": "stdout",
     "text": "expr1\u001b[m\n* \u001b[32mmaster\u001b[m\n"
    }
   ],
   "source": [
    "!git branch "
   ]
  },
  {
   "cell_type": "markdown",
   "metadata": {},
   "source": [
    "We can delete the branch `expr1` now that it has been merged into the master:"
   ],
   "execution_count": null,
   "outputs": []
  },
  {
   "cell_type": "code",
   "execution_count": 50,
   "metadata": {
    "collapsed": false
   },
   "outputs": [
    {
     "output_type": "stream",
     "name": "stdout",
     "text": "Deleted branch expr1 (was 70edd2e).\n"
    }
   ],
   "source": [
    "!git branch -d expr1"
   ]
  },
  {
   "cell_type": "code",
   "execution_count": 51,
   "metadata": {
    "collapsed": false
   },
   "outputs": [
    {
     "output_type": "stream",
     "name": "stdout",
     "text": "* \u001b[32mmaster\u001b[m\n"
    }
   ],
   "source": [
    "!git branch"
   ]
  },
  {
   "cell_type": "code",
   "execution_count": 52,
   "metadata": {
    "collapsed": false
   },
   "outputs": [
    {
     "output_type": "stream",
     "name": "stdout",
     "text": "\nA file with information about the gitdemo repository.\n\nREADME files usually contains installation instructions, and information about how to get started using the software (for example).\n\nExperimental addition.\n"
    }
   ],
   "source": [
    "!cat README"
   ]
  },
  {
   "cell_type": "markdown",
   "metadata": {},
   "source": [
    "## pulling and pushing changesets between repositories"
   ],
   "execution_count": null,
   "outputs": []
  },
  {
   "cell_type": "markdown",
   "metadata": {},
   "source": [
    "If the respository has been cloned from another repository, for example on github.com, it automatically remembers the address of the parant repository (called origin):"
   ],
   "execution_count": null,
   "outputs": []
  },
  {
   "cell_type": "code",
   "execution_count": 53,
   "metadata": {
    "collapsed": false
   },
   "outputs": [
    {
     "output_type": "stream",
     "name": "stdout",
     "text": "jrjohansson\norigin\n"
    }
   ],
   "source": [
    "!git remote"
   ]
  },
  {
   "cell_type": "code",
   "execution_count": 54,
   "metadata": {
    "collapsed": false
   },
   "outputs": [
    {
     "output_type": "stream",
     "name": "stdout",
     "text": "* remote origin\n  Fetch URL: https://github.com/papagiannakis/scientific-python-lectures.git\n  Push  URL: https://github.com/papagiannakis/scientific-python-lectures.git\n  HEAD branch: master\n  Remote branch:\n    master tracked\n  Local branch configured for 'git pull':\n    master merges with remote master\n  Local ref configured for 'git push':\n    master pushes to master (fast-forwardable)\n"
    }
   ],
   "source": [
    "!git remote show origin"
   ]
  },
  {
   "cell_type": "markdown",
   "metadata": {},
   "source": [
    "### pull"
   ],
   "execution_count": null,
   "outputs": []
  },
  {
   "cell_type": "markdown",
   "metadata": {},
   "source": [
    "We can retrieve updates from the origin repository by \"pulling\" changesets from \"origin\" to our repository:"
   ],
   "execution_count": null,
   "outputs": []
  },
  {
   "cell_type": "code",
   "execution_count": 55,
   "metadata": {
    "collapsed": false
   },
   "outputs": [
    {
     "output_type": "stream",
     "name": "stdout",
     "text": "Already up to date.\n"
    }
   ],
   "source": [
    "!git pull origin"
   ]
  },
  {
   "cell_type": "markdown",
   "metadata": {},
   "source": [
    "We can register addresses to many different repositories, and pull in different changesets from different sources, but the default source is the origin from where the repository was first cloned (and the work origin could have been omitted from the line above)."
   ],
   "execution_count": null,
   "outputs": []
  },
  {
   "cell_type": "markdown",
   "metadata": {},
   "source": [
    "### push"
   ],
   "execution_count": null,
   "outputs": []
  },
  {
   "cell_type": "markdown",
   "metadata": {},
   "source": [
    "After making changes to our local repository, we can push changes to a remote repository using `git push`. Again, the default target repository is `origin`, so we can do:"
   ],
   "execution_count": null,
   "outputs": []
  },
  {
   "cell_type": "code",
   "execution_count": null,
   "metadata": {
    "collapsed": false
   },
   "outputs": [],
   "source": [
    "!git status"
   ]
  },
  {
   "cell_type": "code",
   "execution_count": null,
   "metadata": {
    "collapsed": false
   },
   "outputs": [],
   "source": [
    "!git add Lecture-7-Revision-Control-Software.ipynb"
   ]
  },
  {
   "cell_type": "code",
   "execution_count": null,
   "metadata": {
    "collapsed": false
   },
   "outputs": [],
   "source": [
    "!git commit -m \"added lecture notebook about RCS\" Lecture-7-Revision-Control-Software.ipynb"
   ]
  },
  {
   "cell_type": "code",
   "execution_count": null,
   "metadata": {
    "collapsed": false
   },
   "outputs": [],
   "source": [
    "!git push"
   ]
  },
  {
   "cell_type": "markdown",
   "metadata": {},
   "source": [
    "## Hosted repositories"
   ],
   "execution_count": null,
   "outputs": []
  },
  {
   "cell_type": "markdown",
   "metadata": {},
   "source": [
    "Github.com is a git repository hosting site that is very popular with both open source projects (for which it is free) and private repositories (for which a subscription might be needed).\n",
    "\n",
    "With a hosted repository it easy to collaborate with colleagues on the same code base, and you get a graphical user interface where you can browse the code and look at commit logs, track issues etc. \n",
    "\n",
    "Some good hosted repositories are\n",
    "\n",
    "* Github : http://www.github.com\n",
    "* Bitbucket: http://www.bitbucket.org"
   ],
   "execution_count": null,
   "outputs": []
  },
  {
   "cell_type": "code",
   "execution_count": null,
   "metadata": {
    "collapsed": false
   },
   "outputs": [],
   "source": [
    "Image(filename='images/github-project-page.png')"
   ]
  },
  {
   "cell_type": "markdown",
   "metadata": {},
   "source": [
    "## Graphical user interfaces"
   ],
   "execution_count": null,
   "outputs": []
  },
  {
   "cell_type": "markdown",
   "metadata": {},
   "source": [
    "There are also a number of graphical users interfaces for GIT. The available options vary a little bit from platform to platform:\n",
    "\n",
    "http://git-scm.com/downloads/guis"
   ],
   "execution_count": null,
   "outputs": []
  },
  {
   "cell_type": "code",
   "execution_count": null,
   "metadata": {
    "collapsed": false
   },
   "outputs": [],
   "source": [
    "Image(filename='images/gitk.png')"
   ]
  },
  {
   "cell_type": "markdown",
   "metadata": {},
   "source": [
    "## Further reading"
   ],
   "execution_count": null,
   "outputs": []
  },
  {
   "cell_type": "markdown",
   "metadata": {},
   "source": [
    "* http://git-scm.com/book\n",
    "* http://www.vogella.com/articles/Git/article.html\n",
    "* http://cheat.errtheblog.com/s/git"
   ],
   "execution_count": null,
   "outputs": []
  }
 ],
 "metadata": {
  "kernelspec": {
   "display_name": "Python 3.7.6 64-bit ('base': conda)",
   "language": "python",
   "name": "python37664bitbasecondae035b818ee534a2882ace844fc457a34"
  },
  "language_info": {
   "codemirror_mode": {
    "name": "ipython",
    "version": 2
   },
   "file_extension": ".py",
   "mimetype": "text/x-python",
   "name": "python",
   "nbconvert_exporter": "python",
   "pygments_lexer": "ipython2",
   "version": "3.7.7-final"
  }
 },
 "nbformat": 4,
 "nbformat_minor": 0
}